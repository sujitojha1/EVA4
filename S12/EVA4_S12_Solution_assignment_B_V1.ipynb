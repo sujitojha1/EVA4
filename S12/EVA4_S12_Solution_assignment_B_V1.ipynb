{
  "nbformat": 4,
  "nbformat_minor": 0,
  "metadata": {
    "colab": {
      "name": "EVA4_S12_Solution_assignment_B_V1.ipynb",
      "provenance": [],
      "collapsed_sections": [],
      "include_colab_link": true
    },
    "kernelspec": {
      "display_name": "Python 3",
      "language": "python",
      "name": "python3"
    },
    "language_info": {
      "codemirror_mode": {
        "name": "ipython",
        "version": 3
      },
      "file_extension": ".py",
      "mimetype": "text/x-python",
      "name": "python",
      "nbconvert_exporter": "python",
      "pygments_lexer": "ipython3",
      "version": "3.7.3"
    }
  },
  "cells": [
    {
      "cell_type": "markdown",
      "metadata": {
        "id": "view-in-github",
        "colab_type": "text"
      },
      "source": [
        "<a href=\"https://colab.research.google.com/github/sujitojha1/EVA4/blob/rev5/S12/EVA4_S12_Solution_assignment_B_V1.ipynb\" target=\"_parent\"><img src=\"https://colab.research.google.com/assets/colab-badge.svg\" alt=\"Open In Colab\"/></a>"
      ]
    },
    {
      "cell_type": "markdown",
      "metadata": {
        "colab_type": "text",
        "id": "HF57VAaEaZOp"
      },
      "source": [
        "# Problem Statement EVA 4, Session12 : TinyImagenet\n",
        "\n",
        "**Target**: \n",
        "\n",
        "\n",
        "* Assignment B:\n",
        "  1. Download 50 images of dogs. \n",
        "Use this (Links to an external site.) to annotate bounding boxes around the dogs.\n",
        "  2. Download JSON file. \n",
        "  3. Describe the contents of this JSON file in FULL details (you don't need to describe all 10 instances, anyone would work). \n",
        "  4. Refer to this tutorial (Links to an external site.). Find out the best total numbers of clusters. Upload link to your Colab File uploaded to GitHub. \n",
        "\n",
        "**Results**\n",
        "\n",
        "*  Total number of clusters (no transformation) = 5\n",
        "*  Total number of clusters with log transformation = 5\n",
        "\n",
        "**Analysis**\n",
        "\n",
        "*  Total number of cluster of bounding boxes are 5"
      ]
    },
    {
      "cell_type": "markdown",
      "metadata": {
        "colab_type": "text",
        "id": "R_cubGn4bSpS"
      },
      "source": [
        "## 1. Loading Module and data"
      ]
    },
    {
      "cell_type": "code",
      "metadata": {
        "id": "6JTRbI5kGUxv",
        "colab_type": "code",
        "outputId": "d0015654-915c-4dd6-cee9-ad15025298d9",
        "colab": {
          "base_uri": "https://localhost:8080/",
          "height": 34
        }
      },
      "source": [
        "# Load modules/models from EVA course\n",
        "!rm -rf EVA4\n",
        "!git clone -b rev5 https://github.com/sujitojha1/EVA4 -q --quiet\n",
        "print(\"Loaded EVA4 Modules\")\n",
        "\n",
        "# Loading required libraries\n",
        "import numpy as np\n",
        "import pandas as pd\n",
        "from matplotlib import pyplot as plt\n",
        "#from sklearn.datasets.samples_generator import make_blobs\n",
        "from sklearn.cluster import KMeans\n",
        "\n",
        "# For inline matplotlib plotting\n",
        "%matplotlib inline"
      ],
      "execution_count": 1,
      "outputs": [
        {
          "output_type": "stream",
          "text": [
            "Loaded EVA4 Modules\n"
          ],
          "name": "stdout"
        }
      ]
    },
    {
      "cell_type": "code",
      "metadata": {
        "id": "w1UpX846GwG3",
        "colab_type": "code",
        "colab": {}
      },
      "source": [
        "# Loading annotation data frame\n",
        "df_annot = pd.read_csv(\"EVA4/S12/images/annotation_csv_manually_cleaned.csv\")"
      ],
      "execution_count": 0,
      "outputs": []
    },
    {
      "cell_type": "markdown",
      "metadata": {
        "colab_type": "text",
        "id": "3MUaLty4aCIM"
      },
      "source": [
        "\n",
        "## 2. Data Explorations & transformations"
      ]
    },
    {
      "cell_type": "code",
      "metadata": {
        "id": "KCs270BiMyYk",
        "colab_type": "code",
        "outputId": "d238d864-73f3-4b8c-ab94-1852a52a8edb",
        "colab": {
          "base_uri": "https://localhost:8080/",
          "height": 173
        }
      },
      "source": [
        "# Visualinzing the sample table\n",
        "df_annot.head(4)"
      ],
      "execution_count": 3,
      "outputs": [
        {
          "output_type": "execute_result",
          "data": {
            "text/html": [
              "<div>\n",
              "<style scoped>\n",
              "    .dataframe tbody tr th:only-of-type {\n",
              "        vertical-align: middle;\n",
              "    }\n",
              "\n",
              "    .dataframe tbody tr th {\n",
              "        vertical-align: top;\n",
              "    }\n",
              "\n",
              "    .dataframe thead th {\n",
              "        text-align: right;\n",
              "    }\n",
              "</style>\n",
              "<table border=\"1\" class=\"dataframe\">\n",
              "  <thead>\n",
              "    <tr style=\"text-align: right;\">\n",
              "      <th></th>\n",
              "      <th>filename</th>\n",
              "      <th>img_id</th>\n",
              "      <th>img_width</th>\n",
              "      <th>img_height</th>\n",
              "      <th>region_count</th>\n",
              "      <th>bbox_x</th>\n",
              "      <th>bbox_y</th>\n",
              "      <th>bbox_width</th>\n",
              "      <th>bbox_height</th>\n",
              "    </tr>\n",
              "  </thead>\n",
              "  <tbody>\n",
              "    <tr>\n",
              "      <th>0</th>\n",
              "      <td>00100trPORTRAIT_00100_BURST20191126134713895_C...</td>\n",
              "      <td>0</td>\n",
              "      <td>1008</td>\n",
              "      <td>756</td>\n",
              "      <td>1</td>\n",
              "      <td>102</td>\n",
              "      <td>131</td>\n",
              "      <td>874</td>\n",
              "      <td>519</td>\n",
              "    </tr>\n",
              "    <tr>\n",
              "      <th>1</th>\n",
              "      <td>20190208_063211.jpg</td>\n",
              "      <td>1</td>\n",
              "      <td>1008</td>\n",
              "      <td>490</td>\n",
              "      <td>1</td>\n",
              "      <td>49</td>\n",
              "      <td>95</td>\n",
              "      <td>646</td>\n",
              "      <td>247</td>\n",
              "    </tr>\n",
              "    <tr>\n",
              "      <th>2</th>\n",
              "      <td>bubbles1.jpg</td>\n",
              "      <td>2</td>\n",
              "      <td>805</td>\n",
              "      <td>806</td>\n",
              "      <td>1</td>\n",
              "      <td>427</td>\n",
              "      <td>233</td>\n",
              "      <td>336</td>\n",
              "      <td>485</td>\n",
              "    </tr>\n",
              "    <tr>\n",
              "      <th>3</th>\n",
              "      <td>Cali.jpg</td>\n",
              "      <td>3</td>\n",
              "      <td>2341</td>\n",
              "      <td>2604</td>\n",
              "      <td>1</td>\n",
              "      <td>439</td>\n",
              "      <td>543</td>\n",
              "      <td>1386</td>\n",
              "      <td>1883</td>\n",
              "    </tr>\n",
              "  </tbody>\n",
              "</table>\n",
              "</div>"
            ],
            "text/plain": [
              "                                            filename  ...  bbox_height\n",
              "0  00100trPORTRAIT_00100_BURST20191126134713895_C...  ...          519\n",
              "1                                20190208_063211.jpg  ...          247\n",
              "2                                       bubbles1.jpg  ...          485\n",
              "3                                           Cali.jpg  ...         1883\n",
              "\n",
              "[4 rows x 9 columns]"
            ]
          },
          "metadata": {
            "tags": []
          },
          "execution_count": 3
        }
      ]
    },
    {
      "cell_type": "code",
      "metadata": {
        "id": "n43anKs5MyYs",
        "colab_type": "code",
        "colab": {
          "base_uri": "https://localhost:8080/",
          "height": 173
        },
        "outputId": "df6121c9-df68-4f57-d041-2be24bf41b90"
      },
      "source": [
        "# Normalizing the bbox width & height with img width and height\n",
        "df_annot['bbox_width_norm'] = df_annot['bbox_width']/df_annot['img_width']\n",
        "df_annot['bbox_height_norm'] = df_annot['bbox_height']/df_annot['img_height']\n",
        "df_annot[['filename','img_width','img_height','bbox_width','bbox_height','bbox_width_norm','bbox_height_norm']].head(4)"
      ],
      "execution_count": 6,
      "outputs": [
        {
          "output_type": "execute_result",
          "data": {
            "text/html": [
              "<div>\n",
              "<style scoped>\n",
              "    .dataframe tbody tr th:only-of-type {\n",
              "        vertical-align: middle;\n",
              "    }\n",
              "\n",
              "    .dataframe tbody tr th {\n",
              "        vertical-align: top;\n",
              "    }\n",
              "\n",
              "    .dataframe thead th {\n",
              "        text-align: right;\n",
              "    }\n",
              "</style>\n",
              "<table border=\"1\" class=\"dataframe\">\n",
              "  <thead>\n",
              "    <tr style=\"text-align: right;\">\n",
              "      <th></th>\n",
              "      <th>filename</th>\n",
              "      <th>img_width</th>\n",
              "      <th>img_height</th>\n",
              "      <th>bbox_width</th>\n",
              "      <th>bbox_height</th>\n",
              "      <th>bbox_width_norm</th>\n",
              "      <th>bbox_height_norm</th>\n",
              "    </tr>\n",
              "  </thead>\n",
              "  <tbody>\n",
              "    <tr>\n",
              "      <th>0</th>\n",
              "      <td>00100trPORTRAIT_00100_BURST20191126134713895_C...</td>\n",
              "      <td>1008</td>\n",
              "      <td>756</td>\n",
              "      <td>874</td>\n",
              "      <td>519</td>\n",
              "      <td>0.867063</td>\n",
              "      <td>0.686508</td>\n",
              "    </tr>\n",
              "    <tr>\n",
              "      <th>1</th>\n",
              "      <td>20190208_063211.jpg</td>\n",
              "      <td>1008</td>\n",
              "      <td>490</td>\n",
              "      <td>646</td>\n",
              "      <td>247</td>\n",
              "      <td>0.640873</td>\n",
              "      <td>0.504082</td>\n",
              "    </tr>\n",
              "    <tr>\n",
              "      <th>2</th>\n",
              "      <td>bubbles1.jpg</td>\n",
              "      <td>805</td>\n",
              "      <td>806</td>\n",
              "      <td>336</td>\n",
              "      <td>485</td>\n",
              "      <td>0.417391</td>\n",
              "      <td>0.601737</td>\n",
              "    </tr>\n",
              "    <tr>\n",
              "      <th>3</th>\n",
              "      <td>Cali.jpg</td>\n",
              "      <td>2341</td>\n",
              "      <td>2604</td>\n",
              "      <td>1386</td>\n",
              "      <td>1883</td>\n",
              "      <td>0.592055</td>\n",
              "      <td>0.723118</td>\n",
              "    </tr>\n",
              "  </tbody>\n",
              "</table>\n",
              "</div>"
            ],
            "text/plain": [
              "                                            filename  ...  bbox_height_norm\n",
              "0  00100trPORTRAIT_00100_BURST20191126134713895_C...  ...          0.686508\n",
              "1                                20190208_063211.jpg  ...          0.504082\n",
              "2                                       bubbles1.jpg  ...          0.601737\n",
              "3                                           Cali.jpg  ...          0.723118\n",
              "\n",
              "[4 rows x 7 columns]"
            ]
          },
          "metadata": {
            "tags": []
          },
          "execution_count": 6
        }
      ]
    },
    {
      "cell_type": "code",
      "metadata": {
        "id": "JudYsUKC_iw0",
        "colab_type": "code",
        "outputId": "355c6d19-ab90-4364-9672-df9df73d91b9",
        "colab": {
          "base_uri": "https://localhost:8080/",
          "height": 173
        }
      },
      "source": [
        "# Log transfomration of BBox normalized width and height\n",
        "df_annot['bbox_width_norm_log'] = np.log(df_annot['bbox_width_norm'])\n",
        "df_annot['bbox_height_norm_log'] = np.log(df_annot['bbox_height_norm'])\n",
        "df_annot[['filename','img_width','img_height','bbox_width_norm','bbox_height_norm','bbox_width_norm_log','bbox_height_norm_log']].head(4)"
      ],
      "execution_count": 7,
      "outputs": [
        {
          "output_type": "execute_result",
          "data": {
            "text/html": [
              "<div>\n",
              "<style scoped>\n",
              "    .dataframe tbody tr th:only-of-type {\n",
              "        vertical-align: middle;\n",
              "    }\n",
              "\n",
              "    .dataframe tbody tr th {\n",
              "        vertical-align: top;\n",
              "    }\n",
              "\n",
              "    .dataframe thead th {\n",
              "        text-align: right;\n",
              "    }\n",
              "</style>\n",
              "<table border=\"1\" class=\"dataframe\">\n",
              "  <thead>\n",
              "    <tr style=\"text-align: right;\">\n",
              "      <th></th>\n",
              "      <th>filename</th>\n",
              "      <th>img_width</th>\n",
              "      <th>img_height</th>\n",
              "      <th>bbox_width_norm</th>\n",
              "      <th>bbox_height_norm</th>\n",
              "      <th>bbox_width_norm_log</th>\n",
              "      <th>bbox_height_norm_log</th>\n",
              "    </tr>\n",
              "  </thead>\n",
              "  <tbody>\n",
              "    <tr>\n",
              "      <th>0</th>\n",
              "      <td>00100trPORTRAIT_00100_BURST20191126134713895_C...</td>\n",
              "      <td>1008</td>\n",
              "      <td>756</td>\n",
              "      <td>0.867063</td>\n",
              "      <td>0.686508</td>\n",
              "      <td>-0.142643</td>\n",
              "      <td>-0.376137</td>\n",
              "    </tr>\n",
              "    <tr>\n",
              "      <th>1</th>\n",
              "      <td>20190208_063211.jpg</td>\n",
              "      <td>1008</td>\n",
              "      <td>490</td>\n",
              "      <td>0.640873</td>\n",
              "      <td>0.504082</td>\n",
              "      <td>-0.444924</td>\n",
              "      <td>-0.685017</td>\n",
              "    </tr>\n",
              "    <tr>\n",
              "      <th>2</th>\n",
              "      <td>bubbles1.jpg</td>\n",
              "      <td>805</td>\n",
              "      <td>806</td>\n",
              "      <td>0.417391</td>\n",
              "      <td>0.601737</td>\n",
              "      <td>-0.873731</td>\n",
              "      <td>-0.507935</td>\n",
              "    </tr>\n",
              "    <tr>\n",
              "      <th>3</th>\n",
              "      <td>Cali.jpg</td>\n",
              "      <td>2341</td>\n",
              "      <td>2604</td>\n",
              "      <td>0.592055</td>\n",
              "      <td>0.723118</td>\n",
              "      <td>-0.524156</td>\n",
              "      <td>-0.324182</td>\n",
              "    </tr>\n",
              "  </tbody>\n",
              "</table>\n",
              "</div>"
            ],
            "text/plain": [
              "                                            filename  ...  bbox_height_norm_log\n",
              "0  00100trPORTRAIT_00100_BURST20191126134713895_C...  ...             -0.376137\n",
              "1                                20190208_063211.jpg  ...             -0.685017\n",
              "2                                       bubbles1.jpg  ...             -0.507935\n",
              "3                                           Cali.jpg  ...             -0.324182\n",
              "\n",
              "[4 rows x 7 columns]"
            ]
          },
          "metadata": {
            "tags": []
          },
          "execution_count": 7
        }
      ]
    },
    {
      "cell_type": "markdown",
      "metadata": {
        "id": "QK0ANxADMyY4",
        "colab_type": "text"
      },
      "source": [
        "# Plotting Bounding Box width and height"
      ]
    },
    {
      "cell_type": "code",
      "metadata": {
        "colab_type": "code",
        "id": "6naKff4adJIP",
        "outputId": "d71227f2-b64f-491f-d264-3755dd4562b9",
        "colab": {
          "base_uri": "https://localhost:8080/",
          "height": 418
        }
      },
      "source": [
        "# Plotting normalized Box width and heigth\n",
        "df_annot.plot(x='bbox_width_norm',y='bbox_height_norm',kind='scatter',figsize=(6,6),fontsize=14)\n",
        "plt.xlabel('Width Normalize',fontsize=16)\n",
        "plt.ylabel('Height Normalize',fontsize=16)\n",
        "plt.title('Bounding Box Scatter Plot',fontsize=20)\n",
        "plt.show()"
      ],
      "execution_count": 20,
      "outputs": [
        {
          "output_type": "display_data",
          "data": {
            "image/png": "[encoded data removed]",
            "text/plain": [
              "<Figure size 432x432 with 1 Axes>"
            ]
          },
          "metadata": {
            "tags": [],
            "needs_background": "light"
          }
        }
      ]
    },
    {
      "cell_type": "code",
      "metadata": {
        "id": "KlUjI-DiMlWM",
        "colab_type": "code",
        "colab": {
          "base_uri": "https://localhost:8080/",
          "height": 418
        },
        "outputId": "f6513a60-69e3-4949-9f97-103b6acc95af"
      },
      "source": [
        "# Plotting log transformed normalized Box width and heigth\n",
        "df_annot.plot(x='bbox_width_norm_log',y='bbox_height_norm_log',kind='scatter',figsize=(6,6),fontsize=14)\n",
        "plt.xlabel('log(Width Normalize)',fontsize=16)\n",
        "plt.ylabel('log(Height Normalize)',fontsize=16)\n",
        "plt.title('Bounding Box Scatter Plot',fontsize=20)\n",
        "plt.show()"
      ],
      "execution_count": 22,
      "outputs": [
        {
          "output_type": "display_data",
          "data": {
            "image/png": "[encoded data removed]",
            "text/plain": [
              "<Figure size 432x432 with 1 Axes>"
            ]
          },
          "metadata": {
            "tags": [],
            "needs_background": "light"
          }
        }
      ]
    },
    {
      "cell_type": "markdown",
      "metadata": {
        "id": "YicBoIWRMyY-",
        "colab_type": "text"
      },
      "source": [
        "# K Means Clustering (Bounding Box without log transformation)"
      ]
    },
    {
      "cell_type": "code",
      "metadata": {
        "id": "qyP7txXMMyZA",
        "colab_type": "code",
        "outputId": "1aa96be4-d5be-43a0-90b4-93ed392de650",
        "colab": {
          "base_uri": "https://localhost:8080/",
          "height": 309
        }
      },
      "source": [
        "#X = df_annot[['bbox_width_norm','bbox_height_norm']].values\n",
        "#y = df_annot['bbox_height_norm'].values.reshape(-1, 1)\n",
        "X = df_annot[['bbox_width_norm','bbox_height_norm']].values\n",
        "\n",
        "wcss = []\n",
        "for i in range(1, 11):\n",
        "    kmeans = KMeans(n_clusters=i, init='k-means++', max_iter=300, n_init=10, random_state=0)\n",
        "    kmeans.fit(X)\n",
        "    wcss.append(kmeans.inertia_)\n",
        "plt.plot(range(1, 11), wcss)\n",
        "plt.title('Elbow Method',fontsize=20)\n",
        "plt.xlabel('Number of clusters',fontsize=16)\n",
        "plt.ylabel('WCSS',fontsize=16)\n",
        "plt.xticks(fontsize=14)\n",
        "plt.yticks(fontsize=14)\n",
        "plt.show()"
      ],
      "execution_count": 38,
      "outputs": [
        {
          "output_type": "display_data",
          "data": {
            "image/png": "[encoded data removed]",
            "text/plain": [
              "<Figure size 432x288 with 1 Axes>"
            ]
          },
          "metadata": {
            "tags": [],
            "needs_background": "light"
          }
        }
      ]
    },
    {
      "cell_type": "code",
      "metadata": {
        "id": "c_XJe9QTnTDV",
        "colab_type": "code",
        "outputId": "06b5212f-4037-4f85-e1a7-ebe8cdb5aa73",
        "colab": {
          "base_uri": "https://localhost:8080/",
          "height": 265
        }
      },
      "source": [
        "# Optimum number of cluster based on above graph is 5\n",
        "\n",
        "kmeans = KMeans(n_clusters=5, init='k-means++', max_iter=300, n_init=10, random_state=0)\n",
        "pred_y = kmeans.fit_predict(X)\n",
        "plt.scatter(X[:,0], X[:,1])\n",
        "plt.scatter(kmeans.cluster_centers_[:, 0], kmeans.cluster_centers_[:, 1], s=300, c='red')\n",
        "plt.show()"
      ],
      "execution_count": 40,
      "outputs": [
        {
          "output_type": "display_data",
          "data": {
            "image/png": "[encoded data removed]",
            "text/plain": [
              "<Figure size 432x288 with 1 Axes>"
            ]
          },
          "metadata": {
            "tags": [],
            "needs_background": "light"
          }
        }
      ]
    },
    {
      "cell_type": "markdown",
      "metadata": {
        "colab_type": "text",
        "id": "WjnoAU8dPLnv"
      },
      "source": [
        "# K Means Clustering (Bounding Box with log transformation)"
      ]
    },
    {
      "cell_type": "code",
      "metadata": {
        "colab_type": "code",
        "outputId": "854e25d5-2bec-487a-c28e-48d13f4fecd2",
        "id": "S5lRwmJfPPsk",
        "colab": {
          "base_uri": "https://localhost:8080/",
          "height": 309
        }
      },
      "source": [
        "#X = df_annot[['bbox_width_norm','bbox_height_norm']].values\n",
        "#y = df_annot['bbox_height_norm'].values.reshape(-1, 1)\n",
        "X = df_annot[['bbox_width_norm_log','bbox_height_norm_log']].values\n",
        "\n",
        "wcss = []\n",
        "for i in range(1, 11):\n",
        "    kmeans = KMeans(n_clusters=i, init='k-means++', max_iter=300, n_init=10, random_state=0)\n",
        "    kmeans.fit(X)\n",
        "    wcss.append(kmeans.inertia_)\n",
        "plt.plot(range(1, 11), wcss)\n",
        "plt.title('Elbow Method',fontsize=20)\n",
        "plt.xlabel('Number of clusters',fontsize=16)\n",
        "plt.ylabel('WCSS',fontsize=16)\n",
        "plt.xticks(fontsize=14)\n",
        "plt.yticks(fontsize=14)\n",
        "plt.show()"
      ],
      "execution_count": 41,
      "outputs": [
        {
          "output_type": "display_data",
          "data": {
            "image/png": "[encoded data removed]",
            "text/plain": [
              "<Figure size 432x288 with 1 Axes>"
            ]
          },
          "metadata": {
            "tags": [],
            "needs_background": "light"
          }
        }
      ]
    },
    {
      "cell_type": "code",
      "metadata": {
        "colab_type": "code",
        "outputId": "40a98dbc-3486-4f11-819b-d9797e43a8e1",
        "id": "zmw539VRPWO_",
        "colab": {
          "base_uri": "https://localhost:8080/",
          "height": 265
        }
      },
      "source": [
        "# Optimum number of cluster based on above graph is 5\n",
        "\n",
        "kmeans = KMeans(n_clusters=5, init='k-means++', max_iter=300, n_init=10, random_state=0)\n",
        "pred_y = kmeans.fit_predict(X)\n",
        "plt.scatter(X[:,0], X[:,1])\n",
        "plt.scatter(kmeans.cluster_centers_[:, 0], kmeans.cluster_centers_[:, 1], s=300, c='red')\n",
        "plt.show()"
      ],
      "execution_count": 42,
      "outputs": [
        {
          "output_type": "display_data",
          "data": {
            "image/png": "[encoded data removed]",
            "text/plain": [
              "<Figure size 432x288 with 1 Axes>"
            ]
          },
          "metadata": {
            "tags": [],
            "needs_background": "light"
          }
        }
      ]
    }
  ]
}
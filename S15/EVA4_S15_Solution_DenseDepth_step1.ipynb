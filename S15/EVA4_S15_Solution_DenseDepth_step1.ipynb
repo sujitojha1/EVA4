{
  "nbformat": 4,
  "nbformat_minor": 0,
  "metadata": {
    "colab": {
      "name": "EVA4_S15_Solution_DenseDepth_step1",
      "provenance": [],
      "collapsed_sections": [],
      "machine_shape": "hm",
      "include_colab_link": true
    },
    "kernelspec": {
      "name": "python3",
      "display_name": "Python 3"
    },
    "accelerator": "GPU"
  },
  "cells": [
    {
      "cell_type": "markdown",
      "metadata": {
        "id": "view-in-github",
        "colab_type": "text"
      },
      "source": [
        "<a href=\"https://colab.research.google.com/github/sujitojha1/EVA4/blob/rev8/S15/EVA4_S15_Solution_DenseDepth_step1.ipynb\" target=\"_parent\"><img src=\"https://colab.research.google.com/assets/colab-badge.svg\" alt=\"Open In Colab\"/></a>"
      ]
    },
    {
      "cell_type": "markdown",
      "metadata": {
        "id": "UMbuTXj0GPCR",
        "colab_type": "text"
      },
      "source": [
        "# EVA4 Session 15 Assignment - DepthMap & Mask Prediction"
      ]
    },
    {
      "cell_type": "markdown",
      "metadata": {
        "id": "OLTEIq74GhF4",
        "colab_type": "text"
      },
      "source": [
        "## 1. Loading the dataset"
      ]
    },
    {
      "cell_type": "code",
      "metadata": {
        "id": "F5rtQjtODC7Q",
        "colab_type": "code",
        "outputId": "70ce843a-3480-45d3-f80b-f8752f6a1f0b",
        "colab": {
          "base_uri": "https://localhost:8080/",
          "height": 122
        }
      },
      "source": [
        "from google.colab import drive\n",
        "drive.mount('/content/drive')"
      ],
      "execution_count": 1,
      "outputs": [
        {
          "output_type": "stream",
          "text": [
            "Go to this URL in a browser: https://accounts.google.com/o/oauth2/auth?client_id=947318989803-6bn6qk8qdgf4n4g3pfee6491hc0brc4i.apps.googleusercontent.com&redirect_uri=urn%3aietf%3awg%3aoauth%3a2.0%3aoob&response_type=code&scope=email%20https%3a%2f%2fwww.googleapis.com%2fauth%2fdocs.test%20https%3a%2f%2fwww.googleapis.com%2fauth%2fdrive%20https%3a%2f%2fwww.googleapis.com%2fauth%2fdrive.photos.readonly%20https%3a%2f%2fwww.googleapis.com%2fauth%2fpeopleapi.readonly\n",
            "\n",
            "Enter your authorization code:\n",
            "··········\n",
            "Mounted at /content/drive\n"
          ],
          "name": "stdout"
        }
      ]
    },
    {
      "cell_type": "code",
      "metadata": {
        "id": "BADyun35LFby",
        "colab_type": "code",
        "colab": {}
      },
      "source": [
        "!mkdir 'fg_bg'\n",
        "!mkdir 'mask'\n",
        "!mkdir 'depth_map'"
      ],
      "execution_count": 0,
      "outputs": []
    },
    {
      "cell_type": "code",
      "metadata": {
        "id": "SSHNlMsBcKkK",
        "colab_type": "code",
        "outputId": "16f33b50-6f82-4433-cad5-511d3870a0e4",
        "colab": {
          "base_uri": "https://localhost:8080/",
          "height": 51
        }
      },
      "source": [
        "%%time\n",
        "!cp -r '/content/drive/My Drive/EVA4/S15/fg_bg.zip' fg_bg/train.zip \n",
        "!cp -r '/content/drive/My Drive/EVA4/S15/mask.zip' mask/train.zip \n",
        "!cp -r '/content/drive/My Drive/EVA4/S15/depth_map.zip' depth_map/train.zip \n",
        "\n",
        "!unzip -o -qq fg_bg/train.zip -d fg_bg/train/\n",
        "!unzip -o -qq mask/train.zip -d mask/train/\n",
        "!unzip -o -qq depth_map/train.zip -d depth_map/train/"
      ],
      "execution_count": 3,
      "outputs": [
        {
          "output_type": "stream",
          "text": [
            "CPU times: user 996 ms, sys: 163 ms, total: 1.16 s\n",
            "Wall time: 9min 21s\n"
          ],
          "name": "stdout"
        }
      ]
    },
    {
      "cell_type": "code",
      "metadata": {
        "id": "sOSfQGGOBIP-",
        "colab_type": "code",
        "outputId": "242c7d20-6e23-4de1-8269-13a0cb83df00",
        "colab": {
          "base_uri": "https://localhost:8080/",
          "height": 34
        }
      },
      "source": [
        "import os\n",
        "import glob\n",
        "import numpy as np\n",
        "\n",
        "from PIL import Image\n",
        "print(os.getcwd())\n",
        "file_list = [filename for filename in glob.iglob('./mask/*.*')]"
      ],
      "execution_count": 4,
      "outputs": [
        {
          "output_type": "stream",
          "text": [
            "/content\n"
          ],
          "name": "stdout"
        }
      ]
    },
    {
      "cell_type": "code",
      "metadata": {
        "id": "XJJL4z7FiAOB",
        "colab_type": "code",
        "colab": {}
      },
      "source": [
        "%%time\n",
        "from torch.utils import data\n",
        "from torchvision import datasets, transforms\n",
        "dataset = datasets.ImageFolder('fg_bg', transform=transforms.Compose([transforms.ToTensor()]))\n",
        "\n",
        "loader = data.DataLoader(dataset,\n",
        "                         batch_size=100,\n",
        "                         num_workers=4,\n",
        "                         shuffle=False)\n",
        "\n",
        "mean = 0.0\n",
        "for images, _ in loader:\n",
        "    batch_samples = images.size(0) \n",
        "    images = images.view(batch_samples, images.size(1), -1)\n",
        "    mean += images.mean(2).sum(0)\n",
        "mean = mean / len(loader.dataset)\n",
        "\n",
        "var = 0.0\n",
        "for images, _ in loader:\n",
        "    batch_samples = images.size(0)\n",
        "    images = images.view(batch_samples, images.size(1), -1)\n",
        "    var += ((images - mean.unsqueeze(1))**2).sum([0,2])\n",
        "std = torch.sqrt(var / (len(loader.dataset)*224*224))"
      ],
      "execution_count": 0,
      "outputs": []
    },
    {
      "cell_type": "code",
      "metadata": {
        "id": "GDsvKjzQJCjV",
        "colab_type": "code",
        "colab": {}
      },
      "source": [
        "import torch\n",
        "std = torch.sqrt(var / (len(loader.dataset)*224*224))"
      ],
      "execution_count": 0,
      "outputs": []
    },
    {
      "cell_type": "code",
      "metadata": {
        "id": "rbRwRe26JOVl",
        "colab_type": "code",
        "colab": {
          "base_uri": "https://localhost:8080/",
          "height": 34
        },
        "outputId": "4253066e-9e73-428a-9719-876e4c714d19"
      },
      "source": [
        "mean"
      ],
      "execution_count": 9,
      "outputs": [
        {
          "output_type": "execute_result",
          "data": {
            "text/plain": [
              "tensor([0.5704, 0.5221, 0.4675])"
            ]
          },
          "metadata": {
            "tags": []
          },
          "execution_count": 9
        }
      ]
    },
    {
      "cell_type": "code",
      "metadata": {
        "id": "F-r4Chf1JTOI",
        "colab_type": "code",
        "colab": {
          "base_uri": "https://localhost:8080/",
          "height": 34
        },
        "outputId": "36746c78-a0dd-4242-c2f9-a103cbebc2e1"
      },
      "source": [
        "std"
      ],
      "execution_count": 10,
      "outputs": [
        {
          "output_type": "execute_result",
          "data": {
            "text/plain": [
              "tensor([0.2504, 0.2552, 0.2709])"
            ]
          },
          "metadata": {
            "tags": []
          },
          "execution_count": 10
        }
      ]
    },
    {
      "cell_type": "code",
      "metadata": {
        "id": "xMqT1YwxH_o4",
        "colab_type": "code",
        "colab": {
          "base_uri": "https://localhost:8080/",
          "height": 51
        },
        "outputId": "39255a3a-0251-41c3-a6db-f9e6bb5f58ad"
      },
      "source": [
        "%%time\n",
        "from torch.utils import data\n",
        "from torchvision import datasets, transforms\n",
        "dataset = datasets.ImageFolder('mask', transform=transforms.Compose([transforms.ToTensor()]))\n",
        "\n",
        "loader = data.DataLoader(dataset,\n",
        "                         batch_size=100,\n",
        "                         num_workers=4,\n",
        "                         shuffle=False)\n",
        "\n",
        "mean = 0.0\n",
        "for images, _ in loader:\n",
        "    batch_samples = images.size(0) \n",
        "    images = images.view(batch_samples, images.size(1), -1)\n",
        "    mean += images.mean(2).sum(0)\n",
        "mean = mean / len(loader.dataset)\n",
        "\n",
        "var = 0.0\n",
        "for images, _ in loader:\n",
        "    batch_samples = images.size(0)\n",
        "    images = images.view(batch_samples, images.size(1), -1)\n",
        "    var += ((images - mean.unsqueeze(1))**2).sum([0,2])\n",
        "std = torch.sqrt(var / (len(loader.dataset)*224*224))"
      ],
      "execution_count": 11,
      "outputs": [
        {
          "output_type": "stream",
          "text": [
            "CPU times: user 5min 25s, sys: 2min 17s, total: 7min 43s\n",
            "Wall time: 11min 17s\n"
          ],
          "name": "stdout"
        }
      ]
    },
    {
      "cell_type": "code",
      "metadata": {
        "id": "Xl5zBS-9Jk0y",
        "colab_type": "code",
        "colab": {
          "base_uri": "https://localhost:8080/",
          "height": 51
        },
        "outputId": "f1b04915-bd50-437d-bcfb-54ea96744c8c"
      },
      "source": [
        "print(mean)\n",
        "print(std)"
      ],
      "execution_count": 12,
      "outputs": [
        {
          "output_type": "stream",
          "text": [
            "tensor([0.0345, 0.0345, 0.0345])\n",
            "tensor([0.1796, 0.1796, 0.1796])\n"
          ],
          "name": "stdout"
        }
      ]
    },
    {
      "cell_type": "code",
      "metadata": {
        "id": "X0qeVimRETXH",
        "colab_type": "code",
        "colab": {
          "base_uri": "https://localhost:8080/",
          "height": 85
        },
        "outputId": "f457ebbe-3100-4c79-a89f-22e2db8680de"
      },
      "source": [
        "%%time\n",
        "from torch.utils import data\n",
        "from torchvision import datasets, transforms\n",
        "dataset = datasets.ImageFolder('depth_map', transform=transforms.Compose([transforms.ToTensor()]))\n",
        "\n",
        "loader = data.DataLoader(dataset,\n",
        "                         batch_size=100,\n",
        "                         num_workers=4,\n",
        "                         shuffle=False)\n",
        "\n",
        "mean = 0.0\n",
        "for images, _ in loader:\n",
        "    batch_samples = images.size(0) \n",
        "    images = images.view(batch_samples, images.size(1), -1)\n",
        "    mean += images.mean(2).sum(0)\n",
        "mean = mean / len(loader.dataset)\n",
        "\n",
        "var = 0.0\n",
        "for images, _ in loader:\n",
        "    batch_samples = images.size(0)\n",
        "    images = images.view(batch_samples, images.size(1), -1)\n",
        "    var += ((images - mean.unsqueeze(1))**2).sum([0,2])\n",
        "std = torch.sqrt(var / (len(loader.dataset)*112*112))\n",
        "print(mean)\n",
        "print(std)"
      ],
      "execution_count": 13,
      "outputs": [
        {
          "output_type": "stream",
          "text": [
            "tensor([0.3448, 0.3448, 0.3448])\n",
            "tensor([0.1401, 0.1401, 0.1401])\n",
            "CPU times: user 1min 47s, sys: 43.4 s, total: 2min 30s\n",
            "Wall time: 4min 27s\n"
          ],
          "name": "stdout"
        }
      ]
    },
    {
      "cell_type": "code",
      "metadata": {
        "id": "nwp4CN5IMTyo",
        "colab_type": "code",
        "colab": {}
      },
      "source": [
        ""
      ],
      "execution_count": 0,
      "outputs": []
    }
  ]
}
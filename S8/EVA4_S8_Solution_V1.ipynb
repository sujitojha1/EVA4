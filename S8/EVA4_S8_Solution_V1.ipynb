{
  "nbformat": 4,
  "nbformat_minor": 0,
  "metadata": {
    "accelerator": "GPU",
    "colab": {
      "name": "EVA4_S8_Solution-V1.ipynb",
      "provenance": [],
      "collapsed_sections": [],
      "include_colab_link": true
    },
    "kernelspec": {
      "display_name": "Python 3",
      "language": "python",
      "name": "python3"
    },
    "language_info": {
      "codemirror_mode": {
        "name": "ipython",
        "version": 3
      },
      "file_extension": ".py",
      "mimetype": "text/x-python",
      "name": "python",
      "nbconvert_exporter": "python",
      "pygments_lexer": "ipython3",
      "version": "3.7.3"
    },
    "widgets": {
      "application/vnd.jupyter.widget-state+json": {
        "3d57e29ac1eb475c885eb7832ec62d6d": {
          "model_module": "@jupyter-widgets/controls",
          "model_name": "HBoxModel",
          "state": {
            "_view_name": "HBoxView",
            "_dom_classes": [],
            "_model_name": "HBoxModel",
            "_view_module": "@jupyter-widgets/controls",
            "_model_module_version": "1.5.0",
            "_view_count": null,
            "_view_module_version": "1.5.0",
            "box_style": "",
            "layout": "IPY_MODEL_06f4fcc708144f22a5553dee39a203dd",
            "_model_module": "@jupyter-widgets/controls",
            "children": [
              "IPY_MODEL_53bebe5b2ac944efb844fcb2798752bb",
              "IPY_MODEL_80c85ddf88f94bbfa9eb80dd3dd79c06"
            ]
          }
        },
        "06f4fcc708144f22a5553dee39a203dd": {
          "model_module": "@jupyter-widgets/base",
          "model_name": "LayoutModel",
          "state": {
            "_view_name": "LayoutView",
            "grid_template_rows": null,
            "right": null,
            "justify_content": null,
            "_view_module": "@jupyter-widgets/base",
            "overflow": null,
            "_model_module_version": "1.2.0",
            "_view_count": null,
            "flex_flow": null,
            "width": null,
            "min_width": null,
            "border": null,
            "align_items": null,
            "bottom": null,
            "_model_module": "@jupyter-widgets/base",
            "top": null,
            "grid_column": null,
            "overflow_y": null,
            "overflow_x": null,
            "grid_auto_flow": null,
            "grid_area": null,
            "grid_template_columns": null,
            "flex": null,
            "_model_name": "LayoutModel",
            "justify_items": null,
            "grid_row": null,
            "max_height": null,
            "align_content": null,
            "visibility": null,
            "align_self": null,
            "height": null,
            "min_height": null,
            "padding": null,
            "grid_auto_rows": null,
            "grid_gap": null,
            "max_width": null,
            "order": null,
            "_view_module_version": "1.2.0",
            "grid_template_areas": null,
            "object_position": null,
            "object_fit": null,
            "grid_auto_columns": null,
            "margin": null,
            "display": null,
            "left": null
          }
        },
        "53bebe5b2ac944efb844fcb2798752bb": {
          "model_module": "@jupyter-widgets/controls",
          "model_name": "IntProgressModel",
          "state": {
            "_view_name": "ProgressView",
            "style": "IPY_MODEL_bf11d658511e4b95869c85bdbfc73015",
            "_dom_classes": [],
            "description": "",
            "_model_name": "IntProgressModel",
            "bar_style": "success",
            "max": 1,
            "_view_module": "@jupyter-widgets/controls",
            "_model_module_version": "1.5.0",
            "value": 1,
            "_view_count": null,
            "_view_module_version": "1.5.0",
            "orientation": "horizontal",
            "min": 0,
            "description_tooltip": null,
            "_model_module": "@jupyter-widgets/controls",
            "layout": "IPY_MODEL_4dfc031651a14c16be7542b35f0c26db"
          }
        },
        "80c85ddf88f94bbfa9eb80dd3dd79c06": {
          "model_module": "@jupyter-widgets/controls",
          "model_name": "HTMLModel",
          "state": {
            "_view_name": "HTMLView",
            "style": "IPY_MODEL_4832edc27a034e00a16a521fa3a0c164",
            "_dom_classes": [],
            "description": "",
            "_model_name": "HTMLModel",
            "placeholder": "​",
            "_view_module": "@jupyter-widgets/controls",
            "_model_module_version": "1.5.0",
            "value": "170500096it [00:02, 64040785.50it/s]",
            "_view_count": null,
            "_view_module_version": "1.5.0",
            "description_tooltip": null,
            "_model_module": "@jupyter-widgets/controls",
            "layout": "IPY_MODEL_c147e37916cf4c25b9c9f3b4f42c7eee"
          }
        },
        "bf11d658511e4b95869c85bdbfc73015": {
          "model_module": "@jupyter-widgets/controls",
          "model_name": "ProgressStyleModel",
          "state": {
            "_view_name": "StyleView",
            "_model_name": "ProgressStyleModel",
            "description_width": "",
            "_view_module": "@jupyter-widgets/base",
            "_model_module_version": "1.5.0",
            "_view_count": null,
            "_view_module_version": "1.2.0",
            "bar_color": null,
            "_model_module": "@jupyter-widgets/controls"
          }
        },
        "4dfc031651a14c16be7542b35f0c26db": {
          "model_module": "@jupyter-widgets/base",
          "model_name": "LayoutModel",
          "state": {
            "_view_name": "LayoutView",
            "grid_template_rows": null,
            "right": null,
            "justify_content": null,
            "_view_module": "@jupyter-widgets/base",
            "overflow": null,
            "_model_module_version": "1.2.0",
            "_view_count": null,
            "flex_flow": null,
            "width": null,
            "min_width": null,
            "border": null,
            "align_items": null,
            "bottom": null,
            "_model_module": "@jupyter-widgets/base",
            "top": null,
            "grid_column": null,
            "overflow_y": null,
            "overflow_x": null,
            "grid_auto_flow": null,
            "grid_area": null,
            "grid_template_columns": null,
            "flex": null,
            "_model_name": "LayoutModel",
            "justify_items": null,
            "grid_row": null,
            "max_height": null,
            "align_content": null,
            "visibility": null,
            "align_self": null,
            "height": null,
            "min_height": null,
            "padding": null,
            "grid_auto_rows": null,
            "grid_gap": null,
            "max_width": null,
            "order": null,
            "_view_module_version": "1.2.0",
            "grid_template_areas": null,
            "object_position": null,
            "object_fit": null,
            "grid_auto_columns": null,
            "margin": null,
            "display": null,
            "left": null
          }
        },
        "4832edc27a034e00a16a521fa3a0c164": {
          "model_module": "@jupyter-widgets/controls",
          "model_name": "DescriptionStyleModel",
          "state": {
            "_view_name": "StyleView",
            "_model_name": "DescriptionStyleModel",
            "description_width": "",
            "_view_module": "@jupyter-widgets/base",
            "_model_module_version": "1.5.0",
            "_view_count": null,
            "_view_module_version": "1.2.0",
            "_model_module": "@jupyter-widgets/controls"
          }
        },
        "c147e37916cf4c25b9c9f3b4f42c7eee": {
          "model_module": "@jupyter-widgets/base",
          "model_name": "LayoutModel",
          "state": {
            "_view_name": "LayoutView",
            "grid_template_rows": null,
            "right": null,
            "justify_content": null,
            "_view_module": "@jupyter-widgets/base",
            "overflow": null,
            "_model_module_version": "1.2.0",
            "_view_count": null,
            "flex_flow": null,
            "width": null,
            "min_width": null,
            "border": null,
            "align_items": null,
            "bottom": null,
            "_model_module": "@jupyter-widgets/base",
            "top": null,
            "grid_column": null,
            "overflow_y": null,
            "overflow_x": null,
            "grid_auto_flow": null,
            "grid_area": null,
            "grid_template_columns": null,
            "flex": null,
            "_model_name": "LayoutModel",
            "justify_items": null,
            "grid_row": null,
            "max_height": null,
            "align_content": null,
            "visibility": null,
            "align_self": null,
            "height": null,
            "min_height": null,
            "padding": null,
            "grid_auto_rows": null,
            "grid_gap": null,
            "max_width": null,
            "order": null,
            "_view_module_version": "1.2.0",
            "grid_template_areas": null,
            "object_position": null,
            "object_fit": null,
            "grid_auto_columns": null,
            "margin": null,
            "display": null,
            "left": null
          }
        }
      }
    }
  },
  "cells": [
    {
      "cell_type": "markdown",
      "metadata": {
        "id": "view-in-github",
        "colab_type": "text"
      },
      "source": [
        "<a href=\"https://colab.research.google.com/github/sujitojha1/EVA4/blob/master/S8/EVA4_S8_Solution_V1.ipynb\" target=\"_parent\"><img src=\"https://colab.research.google.com/assets/colab-badge.svg\" alt=\"Open In Colab\"/></a>"
      ]
    },
    {
      "cell_type": "markdown",
      "metadata": {
        "colab_type": "text",
        "id": "HF57VAaEaZOp"
      },
      "source": [
        "# Problem Statement EVA 4, Session8 : CIFAR 10\n",
        "\n",
        "**Target**: \n",
        "\n",
        "\n",
        "*   Extract the ResNet18 model from this repository and add it to your API/repo.\n",
        "*   Use your data loader, model loading, train, and test code to train ResNet18 on Cifar10\n",
        "*   Target is 85% accuracy. No limit on the number of epochs. Use default ResNet18 code (so params are fixed). \n",
        "\n",
        "**Results**\n",
        "\n",
        "*  Total Parameters = \n",
        "*  After 10 Epochs, Final Train Accuracy = \n",
        "*  After 10 Epochs, Final Test Accuracy =\n",
        "\n",
        "**Analysis**\n",
        "\n",
        "*  Target accuracy > 85% using Reset18 architecture. Model performance is good as train and test accuracy is small."
      ]
    },
    {
      "cell_type": "markdown",
      "metadata": {
        "colab_type": "text",
        "id": "R_cubGn4bSpS"
      },
      "source": [
        "## 1. Loading Libraries"
      ]
    },
    {
      "cell_type": "code",
      "metadata": {
        "id": "7s214Xt6MyYZ",
        "colab_type": "code",
        "colab": {
          "base_uri": "https://localhost:8080/",
          "height": 136
        },
        "outputId": "9e80fd30-0f48-46ab-f703-c0587398bbcf"
      },
      "source": [
        "from __future__ import print_function\n",
        "\n",
        "import torch.optim as optim    #Optimizatin functions like SGD, ADAMS,\n",
        "import numpy as np\n",
        "\n",
        "# Plottting libraries\n",
        "import matplotlib.pyplot as plt\n",
        "\n",
        "%matplotlib inline\n",
        "\n",
        "# Load modules/models from EVA course\n",
        "!rm -rf EVA4\n",
        "!git clone https://github.com/sujitojha1/EVA4"
      ],
      "execution_count": 2,
      "outputs": [
        {
          "output_type": "stream",
          "text": [
            "Cloning into 'EVA4'...\n",
            "remote: Enumerating objects: 103, done.\u001b[K\n",
            "remote: Counting objects:   0% (1/103)\u001b[K\rremote: Counting objects:   1% (2/103)\u001b[K\rremote: Counting objects:   2% (3/103)\u001b[K\rremote: Counting objects:   3% (4/103)\u001b[K\rremote: Counting objects:   4% (5/103)\u001b[K\rremote: Counting objects:   5% (6/103)\u001b[K\rremote: Counting objects:   6% (7/103)\u001b[K\rremote: Counting objects:   7% (8/103)\u001b[K\rremote: Counting objects:   8% (9/103)\u001b[K\rremote: Counting objects:   9% (10/103)\u001b[K\rremote: Counting objects:  10% (11/103)\u001b[K\rremote: Counting objects:  11% (12/103)\u001b[K\rremote: Counting objects:  12% (13/103)\u001b[K\rremote: Counting objects:  13% (14/103)\u001b[K\rremote: Counting objects:  14% (15/103)\u001b[K\rremote: Counting objects:  15% (16/103)\u001b[K\rremote: Counting objects:  16% (17/103)\u001b[K\rremote: Counting objects:  17% (18/103)\u001b[K\rremote: Counting objects:  18% (19/103)\u001b[K\rremote: Counting objects:  19% (20/103)\u001b[K\rremote: Counting objects:  20% (21/103)\u001b[K\rremote: Counting objects:  21% (22/103)\u001b[K\rremote: Counting objects:  22% (23/103)\u001b[K\rremote: Counting objects:  23% (24/103)\u001b[K\rremote: Counting objects:  24% (25/103)\u001b[K\rremote: Counting objects:  25% (26/103)\u001b[K\rremote: Counting objects:  26% (27/103)\u001b[K\rremote: Counting objects:  27% (28/103)\u001b[K\rremote: Counting objects:  28% (29/103)\u001b[K\rremote: Counting objects:  29% (30/103)\u001b[K\rremote: Counting objects:  30% (31/103)\u001b[K\rremote: Counting objects:  31% (32/103)\u001b[K\rremote: Counting objects:  32% (33/103)\u001b[K\rremote: Counting objects:  33% (34/103)\u001b[K\rremote: Counting objects:  34% (36/103)\u001b[K\rremote: Counting objects:  35% (37/103)\u001b[K\rremote: Counting objects:  36% (38/103)\u001b[K\rremote: Counting objects:  37% (39/103)\u001b[K\rremote: Counting objects:  38% (40/103)\u001b[K\rremote: Counting objects:  39% (41/103)\u001b[K\rremote: Counting objects:  40% (42/103)\u001b[K\rremote: Counting objects:  41% (43/103)\u001b[K\rremote: Counting objects:  42% (44/103)\u001b[K\rremote: Counting objects:  43% (45/103)\u001b[K\rremote: Counting objects:  44% (46/103)\u001b[K\rremote: Counting objects:  45% (47/103)\u001b[K\rremote: Counting objects:  46% (48/103)\u001b[K\rremote: Counting objects:  47% (49/103)\u001b[K\rremote: Counting objects:  48% (50/103)\u001b[K\rremote: Counting objects:  49% (51/103)\u001b[K\rremote: Counting objects:  50% (52/103)\u001b[K\rremote: Counting objects:  51% (53/103)\u001b[K\rremote: Counting objects:  52% (54/103)\u001b[K\rremote: Counting objects:  53% (55/103)\u001b[K\rremote: Counting objects:  54% (56/103)\u001b[K\rremote: Counting objects:  55% (57/103)\u001b[K\rremote: Counting objects:  56% (58/103)\u001b[K\rremote: Counting objects:  57% (59/103)\u001b[K\rremote: Counting objects:  58% (60/103)\u001b[K\rremote: Counting objects:  59% (61/103)\u001b[K\rremote: Counting objects:  60% (62/103)\u001b[K\rremote: Counting objects:  61% (63/103)\u001b[K\rremote: Counting objects:  62% (64/103)\u001b[K\rremote: Counting objects:  63% (65/103)\u001b[K\rremote: Counting objects:  64% (66/103)\u001b[K\rremote: Counting objects:  65% (67/103)\u001b[K\rremote: Counting objects:  66% (68/103)\u001b[K\rremote: Counting objects:  67% (70/103)\u001b[K\rremote: Counting objects:  68% (71/103)\u001b[K\rremote: Counting objects:  69% (72/103)\u001b[K\rremote: Counting objects:  70% (73/103)\u001b[K\rremote: Counting objects:  71% (74/103)\u001b[K\rremote: Counting objects:  72% (75/103)\u001b[K\rremote: Counting objects:  73% (76/103)\u001b[K\rremote: Counting objects:  74% (77/103)\u001b[K\rremote: Counting objects:  75% (78/103)\u001b[K\rremote: Counting objects:  76% (79/103)\u001b[K\rremote: Counting objects:  77% (80/103)\u001b[K\rremote: Counting objects:  78% (81/103)\u001b[K\rremote: Counting objects:  79% (82/103)\u001b[K\rremote: Counting objects:  80% (83/103)\u001b[K\rremote: Counting objects:  81% (84/103)\u001b[K\rremote: Counting objects:  82% (85/103)\u001b[K\rremote: Counting objects:  83% (86/103)\u001b[K\rremote: Counting objects:  84% (87/103)\u001b[K\rremote: Counting objects:  85% (88/103)\u001b[K\rremote: Counting objects:  86% (89/103)\u001b[K\rremote: Counting objects:  87% (90/103)\u001b[K\rremote: Counting objects:  88% (91/103)\u001b[K\rremote: Counting objects:  89% (92/103)\u001b[K\rremote: Counting objects:  90% (93/103)\u001b[K\rremote: Counting objects:  91% (94/103)\u001b[K\rremote: Counting objects:  92% (95/103)\u001b[K\rremote: Counting objects:  93% (96/103)\u001b[K\rremote: Counting objects:  94% (97/103)\u001b[K\rremote: Counting objects:  95% (98/103)\u001b[K\rremote: Counting objects:  96% (99/103)\u001b[K\rremote: Counting objects:  97% (100/103)\u001b[K\rremote: Counting objects:  98% (101/103)\u001b[K\rremote: Counting objects:  99% (102/103)\u001b[K\rremote: Counting objects: 100% (103/103)\u001b[K\rremote: Counting objects: 100% (103/103), done.\u001b[K\n",
            "remote: Compressing objects:   1% (1/66)\u001b[K\rremote: Compressing objects:   3% (2/66)\u001b[K\rremote: Compressing objects:   4% (3/66)\u001b[K\rremote: Compressing objects:   6% (4/66)\u001b[K\rremote: Compressing objects:   7% (5/66)\u001b[K\rremote: Compressing objects:   9% (6/66)\u001b[K\rremote: Compressing objects:  10% (7/66)\u001b[K\rremote: Compressing objects:  12% (8/66)\u001b[K\rremote: Compressing objects:  13% (9/66)\u001b[K\rremote: Compressing objects:  15% (10/66)\u001b[K\rremote: Compressing objects:  16% (11/66)\u001b[K\rremote: Compressing objects:  18% (12/66)\u001b[K\rremote: Compressing objects:  19% (13/66)\u001b[K\rremote: Compressing objects:  21% (14/66)\u001b[K\rremote: Compressing objects:  22% (15/66)\u001b[K\rremote: Compressing objects:  24% (16/66)\u001b[K\rremote: Compressing objects:  25% (17/66)\u001b[K\rremote: Compressing objects:  27% (18/66)\u001b[K\rremote: Compressing objects:  28% (19/66)\u001b[K\rremote: Compressing objects:  30% (20/66)\u001b[K\rremote: Compressing objects:  31% (21/66)\u001b[K\rremote: Compressing objects:  33% (22/66)\u001b[K\rremote: Compressing objects:  34% (23/66)\u001b[K\rremote: Compressing objects:  36% (24/66)\u001b[K\rremote: Compressing objects:  37% (25/66)\u001b[K\rremote: Compressing objects:  39% (26/66)\u001b[K\rremote: Compressing objects:  40% (27/66)\u001b[K\rremote: Compressing objects:  42% (28/66)\u001b[K\rremote: Compressing objects:  43% (29/66)\u001b[K\rremote: Compressing objects:  45% (30/66)\u001b[K\rremote: Compressing objects:  46% (31/66)\u001b[K\rremote: Compressing objects:  48% (32/66)\u001b[K\rremote: Compressing objects:  50% (33/66)\u001b[K\rremote: Compressing objects:  51% (34/66)\u001b[K\rremote: Compressing objects:  53% (35/66)\u001b[K\rremote: Compressing objects:  54% (36/66)\u001b[K\rremote: Compressing objects:  56% (37/66)\u001b[K\rremote: Compressing objects:  57% (38/66)\u001b[K\rremote: Compressing objects:  59% (39/66)\u001b[K\rremote: Compressing objects:  60% (40/66)\u001b[K\rremote: Compressing objects:  62% (41/66)\u001b[K\rremote: Compressing objects:  63% (42/66)\u001b[K\rremote: Compressing objects:  65% (43/66)\u001b[K\rremote: Compressing objects:  66% (44/66)\u001b[K\rremote: Compressing objects:  68% (45/66)\u001b[K\rremote: Compressing objects:  69% (46/66)\u001b[K\rremote: Compressing objects:  71% (47/66)\u001b[K\rremote: Compressing objects:  72% (48/66)\u001b[K\rremote: Compressing objects:  74% (49/66)\u001b[K\rremote: Compressing objects:  75% (50/66)\u001b[K\rremote: Compressing objects:  77% (51/66)\u001b[K\rremote: Compressing objects:  78% (52/66)\u001b[K\rremote: Compressing objects:  80% (53/66)\u001b[K\rremote: Compressing objects:  81% (54/66)\u001b[K\rremote: Compressing objects:  83% (55/66)\u001b[K\rremote: Compressing objects:  84% (56/66)\u001b[K\rremote: Compressing objects:  86% (57/66)\u001b[K\rremote: Compressing objects:  87% (58/66)\u001b[K\rremote: Compressing objects:  89% (59/66)\u001b[K\rremote: Compressing objects:  90% (60/66)\u001b[K\rremote: Compressing objects:  92% (61/66)\u001b[K\rremote: Compressing objects:  93% (62/66)\u001b[K\rremote: Compressing objects:  95% (63/66)\u001b[K\rremote: Compressing objects:  96% (64/66)\u001b[K\rremote: Compressing objects:  98% (65/66)\u001b[K\rremote: Compressing objects: 100% (66/66)\u001b[K\rremote: Compressing objects: 100% (66/66), done.\u001b[K\n",
            "Receiving objects:   0% (1/103)   \rReceiving objects:   1% (2/103)   \rReceiving objects:   2% (3/103)   \rReceiving objects:   3% (4/103)   \rReceiving objects:   4% (5/103)   \rReceiving objects:   5% (6/103)   \rReceiving objects:   6% (7/103)   \rReceiving objects:   7% (8/103)   \rReceiving objects:   8% (9/103)   \rReceiving objects:   9% (10/103)   \rReceiving objects:  10% (11/103)   \rReceiving objects:  11% (12/103)   \rReceiving objects:  12% (13/103)   \rReceiving objects:  13% (14/103)   \rReceiving objects:  14% (15/103)   \rReceiving objects:  15% (16/103)   \rReceiving objects:  16% (17/103)   \rReceiving objects:  17% (18/103)   \rReceiving objects:  18% (19/103)   \rReceiving objects:  19% (20/103)   \rReceiving objects:  20% (21/103)   \rReceiving objects:  21% (22/103)   \rremote: Total 103 (delta 22), reused 73 (delta 17), pack-reused 0\u001b[K\n",
            "Receiving objects:  22% (23/103)   \rReceiving objects:  23% (24/103)   \rReceiving objects:  24% (25/103)   \rReceiving objects:  25% (26/103)   \rReceiving objects:  26% (27/103)   \rReceiving objects:  27% (28/103)   \rReceiving objects:  28% (29/103)   \rReceiving objects:  29% (30/103)   \rReceiving objects:  30% (31/103)   \rReceiving objects:  31% (32/103)   \rReceiving objects:  32% (33/103)   \rReceiving objects:  33% (34/103)   \rReceiving objects:  34% (36/103)   \rReceiving objects:  35% (37/103)   \rReceiving objects:  36% (38/103)   \rReceiving objects:  37% (39/103)   \rReceiving objects:  38% (40/103)   \rReceiving objects:  39% (41/103)   \rReceiving objects:  40% (42/103)   \rReceiving objects:  41% (43/103)   \rReceiving objects:  42% (44/103)   \rReceiving objects:  43% (45/103)   \rReceiving objects:  44% (46/103)   \rReceiving objects:  45% (47/103)   \rReceiving objects:  46% (48/103)   \rReceiving objects:  47% (49/103)   \rReceiving objects:  48% (50/103)   \rReceiving objects:  49% (51/103)   \rReceiving objects:  50% (52/103)   \rReceiving objects:  51% (53/103)   \rReceiving objects:  52% (54/103)   \rReceiving objects:  53% (55/103)   \rReceiving objects:  54% (56/103)   \rReceiving objects:  55% (57/103)   \rReceiving objects:  56% (58/103)   \rReceiving objects:  57% (59/103)   \rReceiving objects:  58% (60/103)   \rReceiving objects:  59% (61/103)   \rReceiving objects:  60% (62/103)   \rReceiving objects:  61% (63/103)   \rReceiving objects:  62% (64/103)   \rReceiving objects:  63% (65/103)   \rReceiving objects:  64% (66/103)   \rReceiving objects:  65% (67/103)   \rReceiving objects:  66% (68/103)   \rReceiving objects:  67% (70/103)   \rReceiving objects:  68% (71/103)   \rReceiving objects:  69% (72/103)   \rReceiving objects:  70% (73/103)   \rReceiving objects:  71% (74/103)   \rReceiving objects:  72% (75/103)   \rReceiving objects:  73% (76/103)   \rReceiving objects:  74% (77/103)   \rReceiving objects:  75% (78/103)   \rReceiving objects:  76% (79/103)   \rReceiving objects:  77% (80/103)   \rReceiving objects:  78% (81/103)   \rReceiving objects:  79% (82/103)   \rReceiving objects:  80% (83/103)   \rReceiving objects:  81% (84/103)   \rReceiving objects:  82% (85/103)   \rReceiving objects:  83% (86/103)   \rReceiving objects:  84% (87/103)   \rReceiving objects:  85% (88/103)   \rReceiving objects:  86% (89/103)   \rReceiving objects:  87% (90/103)   \rReceiving objects:  88% (91/103)   \rReceiving objects:  89% (92/103)   \rReceiving objects:  90% (93/103)   \rReceiving objects:  91% (94/103)   \rReceiving objects:  92% (95/103)   \rReceiving objects:  93% (96/103)   \rReceiving objects:  94% (97/103)   \rReceiving objects:  95% (98/103)   \rReceiving objects:  96% (99/103)   \rReceiving objects:  97% (100/103)   \rReceiving objects:  98% (101/103)   \rReceiving objects:  99% (102/103)   \rReceiving objects: 100% (103/103)   \rReceiving objects: 100% (103/103), 58.48 KiB | 19.49 MiB/s, done.\n",
            "Resolving deltas:   0% (0/22)   \rResolving deltas:  13% (3/22)   \rResolving deltas:  22% (5/22)   \rResolving deltas:  63% (14/22)   \rResolving deltas:  77% (17/22)   \rResolving deltas:  81% (18/22)   \rResolving deltas:  86% (19/22)   \rResolving deltas:  95% (21/22)   \rResolving deltas: 100% (22/22)   \rResolving deltas: 100% (22/22), done.\n"
          ],
          "name": "stdout"
        }
      ]
    },
    {
      "cell_type": "markdown",
      "metadata": {
        "colab_type": "text",
        "id": "3MUaLty4aCIM"
      },
      "source": [
        "\n",
        "## 2. Loading train and test data with transforms and loader functions"
      ]
    },
    {
      "cell_type": "code",
      "metadata": {
        "id": "KCs270BiMyYk",
        "colab_type": "code",
        "colab": {
          "base_uri": "https://localhost:8080/",
          "height": 151,
          "referenced_widgets": [
            "3d57e29ac1eb475c885eb7832ec62d6d",
            "06f4fcc708144f22a5553dee39a203dd",
            "53bebe5b2ac944efb844fcb2798752bb",
            "80c85ddf88f94bbfa9eb80dd3dd79c06",
            "bf11d658511e4b95869c85bdbfc73015",
            "4dfc031651a14c16be7542b35f0c26db",
            "4832edc27a034e00a16a521fa3a0c164",
            "c147e37916cf4c25b9c9f3b4f42c7eee"
          ]
        },
        "outputId": "5f1bfa6d-cd34-44dd-a28d-46ffe9dd10e9"
      },
      "source": [
        "from EVA4.Modules import *\n",
        "cifar10 = dataset_cifar10(sample=False,batch_size=128)\n",
        "sample_cifar10 = dataset_cifar10(sample=True,batch_size=5)\n",
        "\n",
        "# Train dataloader\n",
        "trainloader = cifar10.loader(train_flag=True)\n",
        "\n",
        "# Test dataloader\n",
        "testloader = cifar10.loader(train_flag=False)\n",
        "\n",
        "classes = cifar10.classes"
      ],
      "execution_count": 3,
      "outputs": [
        {
          "output_type": "stream",
          "text": [
            "CUDA availability ? True\n",
            "CUDA availability ? True\n",
            "Downloading https://www.cs.toronto.edu/~kriz/cifar-10-python.tar.gz to ./Data/cifar-10-python.tar.gz\n"
          ],
          "name": "stdout"
        },
        {
          "output_type": "display_data",
          "data": {
            "application/vnd.jupyter.widget-view+json": {
              "model_id": "3d57e29ac1eb475c885eb7832ec62d6d",
              "version_minor": 0,
              "version_major": 2
            },
            "text/plain": [
              "HBox(children=(IntProgress(value=1, bar_style='info', max=1), HTML(value='')))"
            ]
          },
          "metadata": {
            "tags": []
          }
        },
        {
          "output_type": "stream",
          "text": [
            "\n",
            "Extracting ./Data/cifar-10-python.tar.gz to ./Data\n",
            "Files already downloaded and verified\n"
          ],
          "name": "stdout"
        }
      ]
    },
    {
      "cell_type": "markdown",
      "metadata": {
        "colab_type": "text",
        "id": "XPxWjYERcOSU"
      },
      "source": [
        "## 3. Exploratory Data Analysis"
      ]
    },
    {
      "cell_type": "markdown",
      "metadata": {
        "colab_type": "text",
        "id": "Dw0F_A8tcZWI"
      },
      "source": [
        "### 3.1 Summary Statistics"
      ]
    },
    {
      "cell_type": "code",
      "metadata": {
        "id": "n43anKs5MyYs",
        "colab_type": "code",
        "colab": {
          "base_uri": "https://localhost:8080/",
          "height": 102
        },
        "outputId": "f936b386-79e0-44d6-e384-60d784e436eb"
      },
      "source": [
        "# Load train data as numpy array\n",
        "train_data = sample_cifar10.data(train_flag=True).data\n",
        "test_data = sample_cifar10.data(train_flag=False).data\n",
        "\n",
        "total_data = np.concatenate((train_data, test_data), axis=0)\n",
        "print(total_data.shape)\n",
        "print(total_data.mean(axis=(0,1,2))/255)\n",
        "print(total_data.std(axis=(0,1,2))/255)\n",
        "#print(vars(train))"
      ],
      "execution_count": 4,
      "outputs": [
        {
          "output_type": "stream",
          "text": [
            "Files already downloaded and verified\n",
            "Files already downloaded and verified\n",
            "(60000, 32, 32, 3)\n",
            "[0.49186878 0.48265391 0.44717728]\n",
            "[0.24697121 0.24338894 0.26159259]\n"
          ],
          "name": "stdout"
        }
      ]
    },
    {
      "cell_type": "markdown",
      "metadata": {
        "id": "sCsUyZ-8MyYx",
        "colab_type": "text"
      },
      "source": [
        "### 3.2 Plotting sample images"
      ]
    },
    {
      "cell_type": "code",
      "metadata": {
        "id": "StVZow1tMyYz",
        "colab_type": "code",
        "colab": {
          "base_uri": "https://localhost:8080/",
          "height": 155
        },
        "outputId": "0ff677d2-3536-46e8-8cc8-34a6ab16eff2"
      },
      "source": [
        "import torchvision\n",
        "\n",
        "def imshow(img):\n",
        "    npimg = img.numpy()\n",
        "    plt.imshow(np.transpose(npimg,(1,2,0)))\n",
        "\n",
        "# get some random training images\n",
        "dataiter = iter(sample_cifar10.loader(train_flag=True))\n",
        "images,labels = dataiter.next()\n",
        "\n",
        "# Show images\n",
        "imshow(torchvision.utils.make_grid(images))\n",
        "\n",
        "# print labels\n",
        "print(' '.join('%6s' % classes[labels[j]] for j in range(5)))"
      ],
      "execution_count": 5,
      "outputs": [
        {
          "output_type": "stream",
          "text": [
            "Files already downloaded and verified\n",
            "  ship   ship  plane   frog    car\n"
          ],
          "name": "stdout"
        },
        {
          "output_type": "display_data",
          "data": {
            "image/png": "[encoded data removed]",
            "text/plain": [
              "<Figure size 432x288 with 1 Axes>"
            ]
          },
          "metadata": {
            "tags": []
          }
        }
      ]
    },
    {
      "cell_type": "markdown",
      "metadata": {
        "id": "QK0ANxADMyY4",
        "colab_type": "text"
      },
      "source": [
        "# The Model"
      ]
    },
    {
      "cell_type": "code",
      "metadata": {
        "colab_type": "code",
        "id": "6naKff4adJIP",
        "colab": {
          "base_uri": "https://localhost:8080/",
          "height": 34
        },
        "outputId": "eb7600e5-8918-4f50-abf5-97aa95136689"
      },
      "source": [
        "from EVA4.Models import *\n",
        "\n",
        "# Loading ResNet18 Model\n",
        "net = ResNet18()\n",
        "\n",
        "# Using cuda if available\n",
        "use_cuda = torch.cuda.is_available()\n",
        "device = torch.device(\"cuda\" if use_cuda else \"cpu\")\n",
        "print(device)\n",
        "\n",
        "# Sending network to device\n",
        "net = net.to(device)"
      ],
      "execution_count": 8,
      "outputs": [
        {
          "output_type": "stream",
          "text": [
            "cuda\n"
          ],
          "name": "stdout"
        }
      ]
    },
    {
      "cell_type": "markdown",
      "metadata": {
        "id": "YicBoIWRMyY-",
        "colab_type": "text"
      },
      "source": [
        "# Model Summary"
      ]
    },
    {
      "cell_type": "code",
      "metadata": {
        "id": "qyP7txXMMyZA",
        "colab_type": "code",
        "colab": {
          "base_uri": "https://localhost:8080/",
          "height": 1000
        },
        "outputId": "789cb253-34c1-450f-f165-38155dd8f400"
      },
      "source": [
        "!pip install torchsummary\n",
        "from torchsummary import summary\n",
        "\n",
        "# Model Summary\n",
        "summary(net, input_size=(3, 32, 32))"
      ],
      "execution_count": 9,
      "outputs": [
        {
          "output_type": "stream",
          "text": [
            "Requirement already satisfied: torchsummary in /usr/local/lib/python3.6/dist-packages (1.5.1)\n",
            "----------------------------------------------------------------\n",
            "        Layer (type)               Output Shape         Param #\n",
            "================================================================\n",
            "            Conv2d-1           [-1, 64, 32, 32]           1,728\n",
            "       BatchNorm2d-2           [-1, 64, 32, 32]             128\n",
            "            Conv2d-3           [-1, 64, 32, 32]          36,864\n",
            "       BatchNorm2d-4           [-1, 64, 32, 32]             128\n",
            "            Conv2d-5           [-1, 64, 32, 32]          36,864\n",
            "       BatchNorm2d-6           [-1, 64, 32, 32]             128\n",
            "        BasicBlock-7           [-1, 64, 32, 32]               0\n",
            "            Conv2d-8           [-1, 64, 32, 32]          36,864\n",
            "       BatchNorm2d-9           [-1, 64, 32, 32]             128\n",
            "           Conv2d-10           [-1, 64, 32, 32]          36,864\n",
            "      BatchNorm2d-11           [-1, 64, 32, 32]             128\n",
            "       BasicBlock-12           [-1, 64, 32, 32]               0\n",
            "           Conv2d-13          [-1, 128, 16, 16]          73,728\n",
            "      BatchNorm2d-14          [-1, 128, 16, 16]             256\n",
            "           Conv2d-15          [-1, 128, 16, 16]         147,456\n",
            "      BatchNorm2d-16          [-1, 128, 16, 16]             256\n",
            "           Conv2d-17          [-1, 128, 16, 16]           8,192\n",
            "      BatchNorm2d-18          [-1, 128, 16, 16]             256\n",
            "       BasicBlock-19          [-1, 128, 16, 16]               0\n",
            "           Conv2d-20          [-1, 128, 16, 16]         147,456\n",
            "      BatchNorm2d-21          [-1, 128, 16, 16]             256\n",
            "           Conv2d-22          [-1, 128, 16, 16]         147,456\n",
            "      BatchNorm2d-23          [-1, 128, 16, 16]             256\n",
            "       BasicBlock-24          [-1, 128, 16, 16]               0\n",
            "           Conv2d-25            [-1, 256, 8, 8]         294,912\n",
            "      BatchNorm2d-26            [-1, 256, 8, 8]             512\n",
            "           Conv2d-27            [-1, 256, 8, 8]         589,824\n",
            "      BatchNorm2d-28            [-1, 256, 8, 8]             512\n",
            "           Conv2d-29            [-1, 256, 8, 8]          32,768\n",
            "      BatchNorm2d-30            [-1, 256, 8, 8]             512\n",
            "       BasicBlock-31            [-1, 256, 8, 8]               0\n",
            "           Conv2d-32            [-1, 256, 8, 8]         589,824\n",
            "      BatchNorm2d-33            [-1, 256, 8, 8]             512\n",
            "           Conv2d-34            [-1, 256, 8, 8]         589,824\n",
            "      BatchNorm2d-35            [-1, 256, 8, 8]             512\n",
            "       BasicBlock-36            [-1, 256, 8, 8]               0\n",
            "           Conv2d-37            [-1, 512, 4, 4]       1,179,648\n",
            "      BatchNorm2d-38            [-1, 512, 4, 4]           1,024\n",
            "           Conv2d-39            [-1, 512, 4, 4]       2,359,296\n",
            "      BatchNorm2d-40            [-1, 512, 4, 4]           1,024\n",
            "           Conv2d-41            [-1, 512, 4, 4]         131,072\n",
            "      BatchNorm2d-42            [-1, 512, 4, 4]           1,024\n",
            "       BasicBlock-43            [-1, 512, 4, 4]               0\n",
            "           Conv2d-44            [-1, 512, 4, 4]       2,359,296\n",
            "      BatchNorm2d-45            [-1, 512, 4, 4]           1,024\n",
            "           Conv2d-46            [-1, 512, 4, 4]       2,359,296\n",
            "      BatchNorm2d-47            [-1, 512, 4, 4]           1,024\n",
            "       BasicBlock-48            [-1, 512, 4, 4]               0\n",
            "           Linear-49                   [-1, 10]           5,130\n",
            "================================================================\n",
            "Total params: 11,173,962\n",
            "Trainable params: 11,173,962\n",
            "Non-trainable params: 0\n",
            "----------------------------------------------------------------\n",
            "Input size (MB): 0.01\n",
            "Forward/backward pass size (MB): 11.25\n",
            "Params size (MB): 42.63\n",
            "Estimated Total Size (MB): 53.89\n",
            "----------------------------------------------------------------\n"
          ],
          "name": "stdout"
        }
      ]
    },
    {
      "cell_type": "markdown",
      "metadata": {
        "id": "R7mBK94YMyZE",
        "colab_type": "text"
      },
      "source": [
        "# Define a Loss function and optimizer"
      ]
    },
    {
      "cell_type": "code",
      "metadata": {
        "id": "SucwmN1yMyZF",
        "colab_type": "code",
        "colab": {}
      },
      "source": [
        "import torch.optim as optim\n",
        "criterion = nn.CrossEntropyLoss()\n",
        "optimizer = optim.SGD(net.parameters(), lr=0.01, momentum=0.9)"
      ],
      "execution_count": 0,
      "outputs": []
    },
    {
      "cell_type": "markdown",
      "metadata": {
        "id": "Ht1r3cpiMyZJ",
        "colab_type": "text"
      },
      "source": [
        "# Training and Testing"
      ]
    },
    {
      "cell_type": "code",
      "metadata": {
        "colab_type": "code",
        "id": "UfC8GK5yOR9u",
        "colab": {
          "base_uri": "https://localhost:8080/",
          "height": 1000
        },
        "outputId": "fc8c7d71-d813-475a-87fe-68ab01001598"
      },
      "source": [
        "# Load train and test model\n",
        "from EVA4.Modules import *\n",
        "\n",
        "train = train()\n",
        "test = test()\n",
        "\n",
        "for epoch in range(11):  # loop over the dataset multiple times\n",
        "\n",
        "    train.execute(net, device, trainloader, optimizer, criterion, epoch)\n",
        "    test.execute(net, device, testloader, criterion)\n",
        "\n",
        "print('Finished Training')"
      ],
      "execution_count": 11,
      "outputs": [
        {
          "output_type": "stream",
          "text": [
            "\r  0%|          | 0/391 [00:00<?, ?it/s]"
          ],
          "name": "stderr"
        },
        {
          "output_type": "stream",
          "text": [
            "\n",
            "Epoch: 0\n"
          ],
          "name": "stdout"
        },
        {
          "output_type": "stream",
          "text": [
            "Loss=1.209367036819458 Batch_id=390 Accuracy=42.18: 100%|██████████| 391/391 [00:55<00:00,  7.08it/s]\n",
            "  0%|          | 0/391 [00:00<?, ?it/s]"
          ],
          "name": "stderr"
        },
        {
          "output_type": "stream",
          "text": [
            "\n",
            "Test set: Average loss: 0.0090, Accuracy: 6000/10000 (60.00%)\n",
            "\n",
            "\n",
            "Epoch: 1\n"
          ],
          "name": "stdout"
        },
        {
          "output_type": "stream",
          "text": [
            "Loss=1.0126190185546875 Batch_id=390 Accuracy=62.83: 100%|██████████| 391/391 [00:55<00:00,  6.99it/s]\n",
            "  0%|          | 0/391 [00:00<?, ?it/s]"
          ],
          "name": "stderr"
        },
        {
          "output_type": "stream",
          "text": [
            "\n",
            "Test set: Average loss: 0.0079, Accuracy: 6578/10000 (65.78%)\n",
            "\n",
            "\n",
            "Epoch: 2\n"
          ],
          "name": "stdout"
        },
        {
          "output_type": "stream",
          "text": [
            "Loss=0.7179192900657654 Batch_id=390 Accuracy=72.28: 100%|██████████| 391/391 [00:56<00:00,  6.87it/s]\n",
            "  0%|          | 0/391 [00:00<?, ?it/s]"
          ],
          "name": "stderr"
        },
        {
          "output_type": "stream",
          "text": [
            "\n",
            "Test set: Average loss: 0.0059, Accuracy: 7471/10000 (74.71%)\n",
            "\n",
            "\n",
            "Epoch: 3\n"
          ],
          "name": "stdout"
        },
        {
          "output_type": "stream",
          "text": [
            "Loss=0.594066858291626 Batch_id=390 Accuracy=77.01: 100%|██████████| 391/391 [00:57<00:00,  6.85it/s]\n",
            "  0%|          | 0/391 [00:00<?, ?it/s]"
          ],
          "name": "stderr"
        },
        {
          "output_type": "stream",
          "text": [
            "\n",
            "Test set: Average loss: 0.0054, Accuracy: 7779/10000 (77.79%)\n",
            "\n",
            "\n",
            "Epoch: 4\n"
          ],
          "name": "stdout"
        },
        {
          "output_type": "stream",
          "text": [
            "Loss=0.6931103467941284 Batch_id=390 Accuracy=79.87: 100%|██████████| 391/391 [00:56<00:00,  6.88it/s]\n",
            "  0%|          | 0/391 [00:00<?, ?it/s]"
          ],
          "name": "stderr"
        },
        {
          "output_type": "stream",
          "text": [
            "\n",
            "Test set: Average loss: 0.0045, Accuracy: 8148/10000 (81.48%)\n",
            "\n",
            "\n",
            "Epoch: 5\n"
          ],
          "name": "stdout"
        },
        {
          "output_type": "stream",
          "text": [
            "Loss=0.4942716658115387 Batch_id=390 Accuracy=82.16: 100%|██████████| 391/391 [00:57<00:00,  6.84it/s]\n",
            "  0%|          | 0/391 [00:00<?, ?it/s]"
          ],
          "name": "stderr"
        },
        {
          "output_type": "stream",
          "text": [
            "\n",
            "Test set: Average loss: 0.0041, Accuracy: 8286/10000 (82.86%)\n",
            "\n",
            "\n",
            "Epoch: 6\n"
          ],
          "name": "stdout"
        },
        {
          "output_type": "stream",
          "text": [
            "Loss=0.5571851134300232 Batch_id=390 Accuracy=83.58: 100%|██████████| 391/391 [00:57<00:00,  6.85it/s]\n",
            "  0%|          | 0/391 [00:00<?, ?it/s]"
          ],
          "name": "stderr"
        },
        {
          "output_type": "stream",
          "text": [
            "\n",
            "Test set: Average loss: 0.0045, Accuracy: 8213/10000 (82.13%)\n",
            "\n",
            "\n",
            "Epoch: 7\n"
          ],
          "name": "stdout"
        },
        {
          "output_type": "stream",
          "text": [
            "Loss=0.44487494230270386 Batch_id=390 Accuracy=84.93: 100%|██████████| 391/391 [00:57<00:00,  6.86it/s]\n",
            "  0%|          | 0/391 [00:00<?, ?it/s]"
          ],
          "name": "stderr"
        },
        {
          "output_type": "stream",
          "text": [
            "\n",
            "Test set: Average loss: 0.0034, Accuracy: 8577/10000 (85.77%)\n",
            "\n",
            "\n",
            "Epoch: 8\n"
          ],
          "name": "stdout"
        },
        {
          "output_type": "stream",
          "text": [
            "Loss=0.24872681498527527 Batch_id=390 Accuracy=86.18: 100%|██████████| 391/391 [00:57<00:00,  6.85it/s]\n",
            "  0%|          | 0/391 [00:00<?, ?it/s]"
          ],
          "name": "stderr"
        },
        {
          "output_type": "stream",
          "text": [
            "\n",
            "Test set: Average loss: 0.0039, Accuracy: 8363/10000 (83.63%)\n",
            "\n",
            "\n",
            "Epoch: 9\n"
          ],
          "name": "stdout"
        },
        {
          "output_type": "stream",
          "text": [
            "Loss=0.2540697455406189 Batch_id=390 Accuracy=87.12: 100%|██████████| 391/391 [00:57<00:00,  6.84it/s]\n",
            "  0%|          | 0/391 [00:00<?, ?it/s]"
          ],
          "name": "stderr"
        },
        {
          "output_type": "stream",
          "text": [
            "\n",
            "Test set: Average loss: 0.0036, Accuracy: 8463/10000 (84.63%)\n",
            "\n",
            "\n",
            "Epoch: 10\n"
          ],
          "name": "stdout"
        },
        {
          "output_type": "stream",
          "text": [
            "Loss=0.2678679823875427 Batch_id=390 Accuracy=87.90: 100%|██████████| 391/391 [00:57<00:00,  6.84it/s]\n"
          ],
          "name": "stderr"
        },
        {
          "output_type": "stream",
          "text": [
            "\n",
            "Test set: Average loss: 0.0035, Accuracy: 8617/10000 (86.17%)\n",
            "\n",
            "Finished Training\n"
          ],
          "name": "stdout"
        }
      ]
    },
    {
      "cell_type": "markdown",
      "metadata": {
        "id": "CSVSmIPbMyZO",
        "colab_type": "text"
      },
      "source": [
        "# display an image from the test set"
      ]
    },
    {
      "cell_type": "code",
      "metadata": {
        "id": "J1dR2XwoMyZQ",
        "colab_type": "code",
        "colab": {
          "base_uri": "https://localhost:8080/",
          "height": 172
        },
        "outputId": "8af5dbe1-fa86-42e2-9ccd-00bd2ba8126f"
      },
      "source": [
        "dataiter = iter(sample_cifar10.loader(train_flag=False))\n",
        "images, labels = dataiter.next()\n",
        "\n",
        "\n",
        "# print images\n",
        "imshow(torchvision.utils.make_grid(images[0:4]))\n",
        "print('GroundTruth: ', ' '.join('%5s' % classes[labels[j]] for j in range(4)))"
      ],
      "execution_count": 14,
      "outputs": [
        {
          "output_type": "stream",
          "text": [
            "Files already downloaded and verified\n",
            "GroundTruth:    cat horse  bird truck\n"
          ],
          "name": "stdout"
        },
        {
          "output_type": "display_data",
          "data": {
            "image/png": "[encoded data removed]",
            "text/plain": [
              "<Figure size 432x288 with 1 Axes>"
            ]
          },
          "metadata": {
            "tags": []
          }
        }
      ]
    },
    {
      "cell_type": "markdown",
      "metadata": {
        "id": "bJ5p2CWiMyZV",
        "colab_type": "text"
      },
      "source": [
        "# Prediction of sampe test set"
      ]
    },
    {
      "cell_type": "code",
      "metadata": {
        "id": "eAKBmNJ7MyZX",
        "colab_type": "code",
        "colab": {
          "base_uri": "https://localhost:8080/",
          "height": 34
        },
        "outputId": "8b8a3614-a7d4-4654-e9c3-b44c5db9a162"
      },
      "source": [
        "images,labels = images.to(device),labels.to(device)\n",
        "outputs = net(images)\n",
        "_, predicted = torch.max(outputs, 1)\n",
        "\n",
        "print('Predicted: ', ' '.join('%5s' % classes[predicted[j]]\n",
        "                              for j in range(4)))"
      ],
      "execution_count": 15,
      "outputs": [
        {
          "output_type": "stream",
          "text": [
            "Predicted:    cat horse  bird  deer\n"
          ],
          "name": "stdout"
        }
      ]
    },
    {
      "cell_type": "markdown",
      "metadata": {
        "id": "IWxn-r1-MyZa",
        "colab_type": "text"
      },
      "source": [
        "# Plotting Train & Test Accuracy/Losses"
      ]
    },
    {
      "cell_type": "code",
      "metadata": {
        "id": "fK3IMQSbMyZb",
        "colab_type": "code",
        "colab": {
          "base_uri": "https://localhost:8080/",
          "height": 624
        },
        "outputId": "4fc1d1f3-4f0c-43c0-ba60-fe35f162b688"
      },
      "source": [
        "%matplotlib inline\n",
        "import matplotlib.pyplot as plt\n",
        "fig, axs = plt.subplots(2,2,figsize=(15,10))\n",
        "axs[0, 0].plot(train.train_losses)\n",
        "axs[0, 0].set_title(\"Training Loss\")\n",
        "axs[1, 0].plot(train.train_acc)\n",
        "axs[1, 0].set_title(\"Training Accuracy\")\n",
        "axs[0, 1].plot(test.test_losses)\n",
        "axs[0, 1].set_title(\"Test Loss\")\n",
        "axs[1, 1].plot(test.test_acc)\n",
        "axs[1, 1].set_title(\"Test Accuracy\")"
      ],
      "execution_count": 16,
      "outputs": [
        {
          "output_type": "execute_result",
          "data": {
            "text/plain": [
              "Text(0.5, 1.0, 'Test Accuracy')"
            ]
          },
          "metadata": {
            "tags": []
          },
          "execution_count": 16
        },
        {
          "output_type": "display_data",
          "data": {
            "image/png": "[encoded data removed]",
            "text/plain": [
              "<Figure size 1080x720 with 4 Axes>"
            ]
          },
          "metadata": {
            "tags": []
          }
        }
      ]
    },
    {
      "cell_type": "markdown",
      "metadata": {
        "id": "cns1i5dGMyZn",
        "colab_type": "text"
      },
      "source": [
        "# Evaluating test Accuracy over different classes "
      ]
    },
    {
      "cell_type": "code",
      "metadata": {
        "id": "KSrU9MsOMyZo",
        "colab_type": "code",
        "colab": {
          "base_uri": "https://localhost:8080/",
          "height": 187
        },
        "outputId": "4d1a8488-37c1-47e4-9a52-32941f979fb6"
      },
      "source": [
        "class_correct = list(0. for i in range(10))\n",
        "class_total = list(0. for i in range(10))\n",
        "with torch.no_grad():\n",
        "    for data in testloader:\n",
        "        images, labels = data\n",
        "        images,labels = images.to(device),labels.to(device)\n",
        "        outputs = net(images)\n",
        "        _, predicted = torch.max(outputs, 1)\n",
        "        c = (predicted == labels).squeeze()\n",
        "        for i in range(4):\n",
        "            label = labels[i]\n",
        "            class_correct[label] += c[i].item()\n",
        "            class_total[label] += 1\n",
        "\n",
        "\n",
        "for i in range(10):\n",
        "    print('Accuracy of %5s : %2d %%' % (\n",
        "        classes[i], 100 * class_correct[i] / class_total[i]))"
      ],
      "execution_count": 17,
      "outputs": [
        {
          "output_type": "stream",
          "text": [
            "Accuracy of plane : 93 %\n",
            "Accuracy of   car : 96 %\n",
            "Accuracy of  bird : 83 %\n",
            "Accuracy of   cat : 59 %\n",
            "Accuracy of  deer : 81 %\n",
            "Accuracy of   dog : 80 %\n",
            "Accuracy of  frog : 94 %\n",
            "Accuracy of horse : 78 %\n",
            "Accuracy of  ship : 94 %\n",
            "Accuracy of truck : 93 %\n"
          ],
          "name": "stdout"
        }
      ]
    },
    {
      "cell_type": "code",
      "metadata": {
        "id": "yViWXHVEMyZr",
        "colab_type": "code",
        "colab": {}
      },
      "source": [
        ""
      ],
      "execution_count": 0,
      "outputs": []
    }
  ]
}
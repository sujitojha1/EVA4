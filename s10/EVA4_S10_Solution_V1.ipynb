{
  "nbformat": 4,
  "nbformat_minor": 0,
  "metadata": {
    "accelerator": "GPU",
    "colab": {
      "name": "EVA4_S10_Solution_V1.ipynb",
      "provenance": [],
      "collapsed_sections": [],
      "include_colab_link": true
    },
    "kernelspec": {
      "display_name": "Python 3",
      "language": "python",
      "name": "python3"
    },
    "language_info": {
      "codemirror_mode": {
        "name": "ipython",
        "version": 3
      },
      "file_extension": ".py",
      "mimetype": "text/x-python",
      "name": "python",
      "nbconvert_exporter": "python",
      "pygments_lexer": "ipython3",
      "version": "3.7.3"
    },
    "widgets": {
      "application/vnd.jupyter.widget-state+json": {
        "8f898411fbcf46c997eee9e5362e3058": {
          "model_module": "@jupyter-widgets/controls",
          "model_name": "HBoxModel",
          "state": {
            "_view_name": "HBoxView",
            "_dom_classes": [],
            "_model_name": "HBoxModel",
            "_view_module": "@jupyter-widgets/controls",
            "_model_module_version": "1.5.0",
            "_view_count": null,
            "_view_module_version": "1.5.0",
            "box_style": "",
            "layout": "IPY_MODEL_3711bd89fd994d9eb7c694e7030d9e63",
            "_model_module": "@jupyter-widgets/controls",
            "children": [
              "IPY_MODEL_7e87da7f724c41eb88da47e766543c16",
              "IPY_MODEL_c3dafce29c224923a6ccc92eea254988"
            ]
          }
        },
        "3711bd89fd994d9eb7c694e7030d9e63": {
          "model_module": "@jupyter-widgets/base",
          "model_name": "LayoutModel",
          "state": {
            "_view_name": "LayoutView",
            "grid_template_rows": null,
            "right": null,
            "justify_content": null,
            "_view_module": "@jupyter-widgets/base",
            "overflow": null,
            "_model_module_version": "1.2.0",
            "_view_count": null,
            "flex_flow": null,
            "width": null,
            "min_width": null,
            "border": null,
            "align_items": null,
            "bottom": null,
            "_model_module": "@jupyter-widgets/base",
            "top": null,
            "grid_column": null,
            "overflow_y": null,
            "overflow_x": null,
            "grid_auto_flow": null,
            "grid_area": null,
            "grid_template_columns": null,
            "flex": null,
            "_model_name": "LayoutModel",
            "justify_items": null,
            "grid_row": null,
            "max_height": null,
            "align_content": null,
            "visibility": null,
            "align_self": null,
            "height": null,
            "min_height": null,
            "padding": null,
            "grid_auto_rows": null,
            "grid_gap": null,
            "max_width": null,
            "order": null,
            "_view_module_version": "1.2.0",
            "grid_template_areas": null,
            "object_position": null,
            "object_fit": null,
            "grid_auto_columns": null,
            "margin": null,
            "display": null,
            "left": null
          }
        },
        "7e87da7f724c41eb88da47e766543c16": {
          "model_module": "@jupyter-widgets/controls",
          "model_name": "IntProgressModel",
          "state": {
            "_view_name": "ProgressView",
            "style": "IPY_MODEL_11870283d6524d8fa890fa778592d692",
            "_dom_classes": [],
            "description": "",
            "_model_name": "IntProgressModel",
            "bar_style": "info",
            "max": 1,
            "_view_module": "@jupyter-widgets/controls",
            "_model_module_version": "1.5.0",
            "value": 1,
            "_view_count": null,
            "_view_module_version": "1.5.0",
            "orientation": "horizontal",
            "min": 0,
            "description_tooltip": null,
            "_model_module": "@jupyter-widgets/controls",
            "layout": "IPY_MODEL_ccb88dd48d62403aae0c90b851c37aff"
          }
        },
        "c3dafce29c224923a6ccc92eea254988": {
          "model_module": "@jupyter-widgets/controls",
          "model_name": "HTMLModel",
          "state": {
            "_view_name": "HTMLView",
            "style": "IPY_MODEL_da5cc1dc95f04a529ee6df216faf4974",
            "_dom_classes": [],
            "description": "",
            "_model_name": "HTMLModel",
            "placeholder": "​",
            "_view_module": "@jupyter-widgets/controls",
            "_model_module_version": "1.5.0",
            "value": " 170500096/? [00:19&lt;00:00, 50094886.62it/s]",
            "_view_count": null,
            "_view_module_version": "1.5.0",
            "description_tooltip": null,
            "_model_module": "@jupyter-widgets/controls",
            "layout": "IPY_MODEL_d461dc776e13407b8be13dee5c70d6c6"
          }
        },
        "11870283d6524d8fa890fa778592d692": {
          "model_module": "@jupyter-widgets/controls",
          "model_name": "ProgressStyleModel",
          "state": {
            "_view_name": "StyleView",
            "_model_name": "ProgressStyleModel",
            "description_width": "initial",
            "_view_module": "@jupyter-widgets/base",
            "_model_module_version": "1.5.0",
            "_view_count": null,
            "_view_module_version": "1.2.0",
            "bar_color": null,
            "_model_module": "@jupyter-widgets/controls"
          }
        },
        "ccb88dd48d62403aae0c90b851c37aff": {
          "model_module": "@jupyter-widgets/base",
          "model_name": "LayoutModel",
          "state": {
            "_view_name": "LayoutView",
            "grid_template_rows": null,
            "right": null,
            "justify_content": null,
            "_view_module": "@jupyter-widgets/base",
            "overflow": null,
            "_model_module_version": "1.2.0",
            "_view_count": null,
            "flex_flow": null,
            "width": null,
            "min_width": null,
            "border": null,
            "align_items": null,
            "bottom": null,
            "_model_module": "@jupyter-widgets/base",
            "top": null,
            "grid_column": null,
            "overflow_y": null,
            "overflow_x": null,
            "grid_auto_flow": null,
            "grid_area": null,
            "grid_template_columns": null,
            "flex": null,
            "_model_name": "LayoutModel",
            "justify_items": null,
            "grid_row": null,
            "max_height": null,
            "align_content": null,
            "visibility": null,
            "align_self": null,
            "height": null,
            "min_height": null,
            "padding": null,
            "grid_auto_rows": null,
            "grid_gap": null,
            "max_width": null,
            "order": null,
            "_view_module_version": "1.2.0",
            "grid_template_areas": null,
            "object_position": null,
            "object_fit": null,
            "grid_auto_columns": null,
            "margin": null,
            "display": null,
            "left": null
          }
        },
        "da5cc1dc95f04a529ee6df216faf4974": {
          "model_module": "@jupyter-widgets/controls",
          "model_name": "DescriptionStyleModel",
          "state": {
            "_view_name": "StyleView",
            "_model_name": "DescriptionStyleModel",
            "description_width": "",
            "_view_module": "@jupyter-widgets/base",
            "_model_module_version": "1.5.0",
            "_view_count": null,
            "_view_module_version": "1.2.0",
            "_model_module": "@jupyter-widgets/controls"
          }
        },
        "d461dc776e13407b8be13dee5c70d6c6": {
          "model_module": "@jupyter-widgets/base",
          "model_name": "LayoutModel",
          "state": {
            "_view_name": "LayoutView",
            "grid_template_rows": null,
            "right": null,
            "justify_content": null,
            "_view_module": "@jupyter-widgets/base",
            "overflow": null,
            "_model_module_version": "1.2.0",
            "_view_count": null,
            "flex_flow": null,
            "width": null,
            "min_width": null,
            "border": null,
            "align_items": null,
            "bottom": null,
            "_model_module": "@jupyter-widgets/base",
            "top": null,
            "grid_column": null,
            "overflow_y": null,
            "overflow_x": null,
            "grid_auto_flow": null,
            "grid_area": null,
            "grid_template_columns": null,
            "flex": null,
            "_model_name": "LayoutModel",
            "justify_items": null,
            "grid_row": null,
            "max_height": null,
            "align_content": null,
            "visibility": null,
            "align_self": null,
            "height": null,
            "min_height": null,
            "padding": null,
            "grid_auto_rows": null,
            "grid_gap": null,
            "max_width": null,
            "order": null,
            "_view_module_version": "1.2.0",
            "grid_template_areas": null,
            "object_position": null,
            "object_fit": null,
            "grid_auto_columns": null,
            "margin": null,
            "display": null,
            "left": null
          }
        },
        "3e665c1d0cf8421f9da4c5b288bb2ec0": {
          "model_module": "@jupyter-widgets/controls",
          "model_name": "HBoxModel",
          "state": {
            "_view_name": "HBoxView",
            "_dom_classes": [],
            "_model_name": "HBoxModel",
            "_view_module": "@jupyter-widgets/controls",
            "_model_module_version": "1.5.0",
            "_view_count": null,
            "_view_module_version": "1.5.0",
            "box_style": "",
            "layout": "IPY_MODEL_4c8214b82c7c49b29e948b7468a96fe0",
            "_model_module": "@jupyter-widgets/controls",
            "children": [
              "IPY_MODEL_f2756f4ccc084ccabbff3886594e3e31",
              "IPY_MODEL_97943cc8ca64462485f75e0818507edb"
            ]
          }
        },
        "4c8214b82c7c49b29e948b7468a96fe0": {
          "model_module": "@jupyter-widgets/base",
          "model_name": "LayoutModel",
          "state": {
            "_view_name": "LayoutView",
            "grid_template_rows": null,
            "right": null,
            "justify_content": null,
            "_view_module": "@jupyter-widgets/base",
            "overflow": null,
            "_model_module_version": "1.2.0",
            "_view_count": null,
            "flex_flow": null,
            "width": null,
            "min_width": null,
            "border": null,
            "align_items": null,
            "bottom": null,
            "_model_module": "@jupyter-widgets/base",
            "top": null,
            "grid_column": null,
            "overflow_y": null,
            "overflow_x": null,
            "grid_auto_flow": null,
            "grid_area": null,
            "grid_template_columns": null,
            "flex": null,
            "_model_name": "LayoutModel",
            "justify_items": null,
            "grid_row": null,
            "max_height": null,
            "align_content": null,
            "visibility": null,
            "align_self": null,
            "height": null,
            "min_height": null,
            "padding": null,
            "grid_auto_rows": null,
            "grid_gap": null,
            "max_width": null,
            "order": null,
            "_view_module_version": "1.2.0",
            "grid_template_areas": null,
            "object_position": null,
            "object_fit": null,
            "grid_auto_columns": null,
            "margin": null,
            "display": null,
            "left": null
          }
        },
        "f2756f4ccc084ccabbff3886594e3e31": {
          "model_module": "@jupyter-widgets/controls",
          "model_name": "IntProgressModel",
          "state": {
            "_view_name": "ProgressView",
            "style": "IPY_MODEL_45dffe8d51584f18b6bfb3067e85ecd5",
            "_dom_classes": [],
            "description": " 91%",
            "_model_name": "IntProgressModel",
            "bar_style": "danger",
            "max": 100,
            "_view_module": "@jupyter-widgets/controls",
            "_model_module_version": "1.5.0",
            "value": 91,
            "_view_count": null,
            "_view_module_version": "1.5.0",
            "orientation": "horizontal",
            "min": 0,
            "description_tooltip": null,
            "_model_module": "@jupyter-widgets/controls",
            "layout": "IPY_MODEL_dd26af61efec4843923735d290408d6f"
          }
        },
        "97943cc8ca64462485f75e0818507edb": {
          "model_module": "@jupyter-widgets/controls",
          "model_name": "HTMLModel",
          "state": {
            "_view_name": "HTMLView",
            "style": "IPY_MODEL_ee98205380ad4a5da3ac796f86f09a51",
            "_dom_classes": [],
            "description": "",
            "_model_name": "HTMLModel",
            "placeholder": "​",
            "_view_module": "@jupyter-widgets/controls",
            "_model_module_version": "1.5.0",
            "value": " 91/100 [00:21&lt;00:00, 13.74it/s]",
            "_view_count": null,
            "_view_module_version": "1.5.0",
            "description_tooltip": null,
            "_model_module": "@jupyter-widgets/controls",
            "layout": "IPY_MODEL_7684041439a347d8ae4d34da5055a6f6"
          }
        },
        "45dffe8d51584f18b6bfb3067e85ecd5": {
          "model_module": "@jupyter-widgets/controls",
          "model_name": "ProgressStyleModel",
          "state": {
            "_view_name": "StyleView",
            "_model_name": "ProgressStyleModel",
            "description_width": "initial",
            "_view_module": "@jupyter-widgets/base",
            "_model_module_version": "1.5.0",
            "_view_count": null,
            "_view_module_version": "1.2.0",
            "bar_color": null,
            "_model_module": "@jupyter-widgets/controls"
          }
        },
        "dd26af61efec4843923735d290408d6f": {
          "model_module": "@jupyter-widgets/base",
          "model_name": "LayoutModel",
          "state": {
            "_view_name": "LayoutView",
            "grid_template_rows": null,
            "right": null,
            "justify_content": null,
            "_view_module": "@jupyter-widgets/base",
            "overflow": null,
            "_model_module_version": "1.2.0",
            "_view_count": null,
            "flex_flow": null,
            "width": null,
            "min_width": null,
            "border": null,
            "align_items": null,
            "bottom": null,
            "_model_module": "@jupyter-widgets/base",
            "top": null,
            "grid_column": null,
            "overflow_y": null,
            "overflow_x": null,
            "grid_auto_flow": null,
            "grid_area": null,
            "grid_template_columns": null,
            "flex": null,
            "_model_name": "LayoutModel",
            "justify_items": null,
            "grid_row": null,
            "max_height": null,
            "align_content": null,
            "visibility": null,
            "align_self": null,
            "height": null,
            "min_height": null,
            "padding": null,
            "grid_auto_rows": null,
            "grid_gap": null,
            "max_width": null,
            "order": null,
            "_view_module_version": "1.2.0",
            "grid_template_areas": null,
            "object_position": null,
            "object_fit": null,
            "grid_auto_columns": null,
            "margin": null,
            "display": null,
            "left": null
          }
        },
        "ee98205380ad4a5da3ac796f86f09a51": {
          "model_module": "@jupyter-widgets/controls",
          "model_name": "DescriptionStyleModel",
          "state": {
            "_view_name": "StyleView",
            "_model_name": "DescriptionStyleModel",
            "description_width": "",
            "_view_module": "@jupyter-widgets/base",
            "_model_module_version": "1.5.0",
            "_view_count": null,
            "_view_module_version": "1.2.0",
            "_model_module": "@jupyter-widgets/controls"
          }
        },
        "7684041439a347d8ae4d34da5055a6f6": {
          "model_module": "@jupyter-widgets/base",
          "model_name": "LayoutModel",
          "state": {
            "_view_name": "LayoutView",
            "grid_template_rows": null,
            "right": null,
            "justify_content": null,
            "_view_module": "@jupyter-widgets/base",
            "overflow": null,
            "_model_module_version": "1.2.0",
            "_view_count": null,
            "flex_flow": null,
            "width": null,
            "min_width": null,
            "border": null,
            "align_items": null,
            "bottom": null,
            "_model_module": "@jupyter-widgets/base",
            "top": null,
            "grid_column": null,
            "overflow_y": null,
            "overflow_x": null,
            "grid_auto_flow": null,
            "grid_area": null,
            "grid_template_columns": null,
            "flex": null,
            "_model_name": "LayoutModel",
            "justify_items": null,
            "grid_row": null,
            "max_height": null,
            "align_content": null,
            "visibility": null,
            "align_self": null,
            "height": null,
            "min_height": null,
            "padding": null,
            "grid_auto_rows": null,
            "grid_gap": null,
            "max_width": null,
            "order": null,
            "_view_module_version": "1.2.0",
            "grid_template_areas": null,
            "object_position": null,
            "object_fit": null,
            "grid_auto_columns": null,
            "margin": null,
            "display": null,
            "left": null
          }
        }
      }
    }
  },
  "cells": [
    {
      "cell_type": "markdown",
      "metadata": {
        "id": "view-in-github",
        "colab_type": "text"
      },
      "source": [
        "<a href=\"https://colab.research.google.com/github/sujitojha1/EVA4/blob/rev3/s10/EVA4_S10_Solution_V1.ipynb\" target=\"_parent\"><img src=\"https://colab.research.google.com/assets/colab-badge.svg\" alt=\"Open In Colab\"/></a>"
      ]
    },
    {
      "cell_type": "markdown",
      "metadata": {
        "colab_type": "text",
        "id": "HF57VAaEaZOp"
      },
      "source": [
        "# Problem Statement EVA 4, Session9 : CIFAR 10\n",
        "\n",
        "**Target**: \n",
        "\n",
        "\n",
        "*   Move your last code's transformations to Albumentations. Apply ToTensor, HorizontalFlip, Normalize (at min) + More (for additional points)\n",
        "Please make sure that your test_transforms are simple and only using ToTensor and Normalize\n",
        "*   Implement GradCam function as a module. \n",
        "Your final code (notebook file) must use imported functions to implement transformations and GradCam functionality\n",
        "*   Target Accuracy is 87%\n",
        "*   Submit answers to S9-Assignment-Solution. \n",
        "\n",
        "**Results**\n",
        "\n",
        "*  Total Parameters = \n",
        "*  After 10 Epochs, Final Train Accuracy = \n",
        "*  After 10 Epochs, Final Test Accuracy =\n",
        "\n",
        "**Analysis**\n",
        "\n",
        "*  Target accuracy > 87% using Reset18 architecture. Model performance is good as train and test accuracy is small."
      ]
    },
    {
      "cell_type": "markdown",
      "metadata": {
        "colab_type": "text",
        "id": "R_cubGn4bSpS"
      },
      "source": [
        "## 1. Loading Module and Models "
      ]
    },
    {
      "cell_type": "code",
      "metadata": {
        "id": "7s214Xt6MyYZ",
        "colab_type": "code",
        "outputId": "c9d460a2-68a1-4d02-92a4-4e2f7a78e5eb",
        "colab": {
          "base_uri": "https://localhost:8080/",
          "height": 85
        }
      },
      "source": [
        "# Future print function\n",
        "from __future__ import print_function\n",
        "\n",
        "# Load modules/models from EVA course\n",
        "!rm -rf EVA4\n",
        "!git clone -b rev3 https://github.com/sujitojha1/EVA4 -q --quiet\n",
        "print(\"Loaded EVA4 Modules and Models\")\n",
        "\n",
        "# Installing latest Albumentation library\n",
        "!pip install -U git+https://github.com/albu/albumentations -q --quiet\n",
        "\n",
        "# For inline matplotlib plotting\n",
        "%matplotlib inline"
      ],
      "execution_count": 1,
      "outputs": [
        {
          "output_type": "stream",
          "text": [
            "Loaded EVA4 Modules and Models\n",
            "\u001b[K     |████████████████████████████████| 634kB 4.8MB/s \n",
            "\u001b[?25h  Building wheel for albumentations (setup.py) ... \u001b[?25l\u001b[?25hdone\n",
            "  Building wheel for imgaug (setup.py) ... \u001b[?25l\u001b[?25hdone\n"
          ],
          "name": "stdout"
        }
      ]
    },
    {
      "cell_type": "markdown",
      "metadata": {
        "colab_type": "text",
        "id": "3MUaLty4aCIM"
      },
      "source": [
        "\n",
        "## 2. Loading train and test data with transforms and loader functions"
      ]
    },
    {
      "cell_type": "code",
      "metadata": {
        "id": "KCs270BiMyYk",
        "colab_type": "code",
        "outputId": "66b03bef-1c4e-4ae7-a38a-a6733ad3f544",
        "colab": {
          "base_uri": "https://localhost:8080/",
          "height": 151,
          "referenced_widgets": [
            "8f898411fbcf46c997eee9e5362e3058",
            "3711bd89fd994d9eb7c694e7030d9e63",
            "7e87da7f724c41eb88da47e766543c16",
            "c3dafce29c224923a6ccc92eea254988",
            "11870283d6524d8fa890fa778592d692",
            "ccb88dd48d62403aae0c90b851c37aff",
            "da5cc1dc95f04a529ee6df216faf4974",
            "d461dc776e13407b8be13dee5c70d6c6"
          ]
        }
      },
      "source": [
        "from EVA4.Modules import *\n",
        "\n",
        "# Loading test and train data & dataloader\n",
        "cifar10 = dataset_cifar10(batch_size=128)\n",
        "\n",
        "# Train dataloader\n",
        "trainloader = cifar10.loader(train_flag=True)\n",
        "\n",
        "# Test dataloader\n",
        "testloader = cifar10.loader(train_flag=False)\n",
        "\n",
        "classes = cifar10.classes"
      ],
      "execution_count": 2,
      "outputs": [
        {
          "output_type": "stream",
          "text": [
            "WARNING:EVA4.Modules.lr_finder:To enable mixed precision training, please install `apex`. Or you can re-install this package by the following command:\n",
            "  pip install torch-lr-finder -v --global-option=\"amp\"\n"
          ],
          "name": "stderr"
        },
        {
          "output_type": "stream",
          "text": [
            "CUDA availability ? True\n",
            "Downloading https://www.cs.toronto.edu/~kriz/cifar-10-python.tar.gz to ./Data/cifar-10-python.tar.gz\n"
          ],
          "name": "stdout"
        },
        {
          "output_type": "display_data",
          "data": {
            "application/vnd.jupyter.widget-view+json": {
              "model_id": "8f898411fbcf46c997eee9e5362e3058",
              "version_minor": 0,
              "version_major": 2
            },
            "text/plain": [
              "HBox(children=(IntProgress(value=1, bar_style='info', max=1), HTML(value='')))"
            ]
          },
          "metadata": {
            "tags": []
          }
        },
        {
          "output_type": "stream",
          "text": [
            "Extracting ./Data/cifar-10-python.tar.gz to ./Data\n",
            "Files already downloaded and verified\n"
          ],
          "name": "stdout"
        }
      ]
    },
    {
      "cell_type": "markdown",
      "metadata": {
        "colab_type": "text",
        "id": "XPxWjYERcOSU"
      },
      "source": [
        "## 3. Exploratory Data Analysis"
      ]
    },
    {
      "cell_type": "markdown",
      "metadata": {
        "colab_type": "text",
        "id": "Dw0F_A8tcZWI"
      },
      "source": [
        "### 3.1 Summary Statistics"
      ]
    },
    {
      "cell_type": "code",
      "metadata": {
        "id": "n43anKs5MyYs",
        "colab_type": "code",
        "outputId": "b77883a5-1ba7-4a99-c365-a1f60f5b69f1",
        "colab": {
          "base_uri": "https://localhost:8080/",
          "height": 102
        }
      },
      "source": [
        "cifar10.data_summary_stats()\n",
        "#print(vars(train))"
      ],
      "execution_count": 3,
      "outputs": [
        {
          "output_type": "stream",
          "text": [
            "Files already downloaded and verified\n",
            "Files already downloaded and verified\n",
            "(60000, 32, 32, 3)\n",
            "[0.49186878 0.48265391 0.44717728]\n",
            "[0.24697121 0.24338894 0.26159259]\n"
          ],
          "name": "stdout"
        }
      ]
    },
    {
      "cell_type": "markdown",
      "metadata": {
        "id": "sCsUyZ-8MyYx",
        "colab_type": "text"
      },
      "source": [
        "### 3.2 Plotting sample images"
      ]
    },
    {
      "cell_type": "markdown",
      "metadata": {
        "id": "QK0ANxADMyY4",
        "colab_type": "text"
      },
      "source": [
        "# The Model"
      ]
    },
    {
      "cell_type": "code",
      "metadata": {
        "colab_type": "code",
        "id": "6naKff4adJIP",
        "outputId": "18113b7d-1e75-48e0-bcbf-2a0ce6b122d2",
        "colab": {
          "base_uri": "https://localhost:8080/",
          "height": 34
        }
      },
      "source": [
        "from EVA4.Models import *\n",
        "\n",
        "# Loading ResNet18 Model\n",
        "net = ResNet18()\n",
        "\n",
        "# Using cuda if available\n",
        "use_cuda = torch.cuda.is_available()\n",
        "device = torch.device(\"cuda\" if use_cuda else \"cpu\")\n",
        "print(device)\n",
        "\n",
        "# Sending network to device\n",
        "net = net.to(device)"
      ],
      "execution_count": 4,
      "outputs": [
        {
          "output_type": "stream",
          "text": [
            "cuda\n"
          ],
          "name": "stdout"
        }
      ]
    },
    {
      "cell_type": "markdown",
      "metadata": {
        "id": "YicBoIWRMyY-",
        "colab_type": "text"
      },
      "source": [
        "# Model Summary"
      ]
    },
    {
      "cell_type": "code",
      "metadata": {
        "id": "qyP7txXMMyZA",
        "colab_type": "code",
        "outputId": "4efc933b-5d51-4902-dc83-9a408c1633ff",
        "colab": {
          "base_uri": "https://localhost:8080/",
          "height": 1000
        }
      },
      "source": [
        "!pip install torchsummary\n",
        "from torchsummary import summary\n",
        "\n",
        "# Model Summary\n",
        "summary(net, input_size=(3, 32, 32))"
      ],
      "execution_count": 5,
      "outputs": [
        {
          "output_type": "stream",
          "text": [
            "Requirement already satisfied: torchsummary in /usr/local/lib/python3.6/dist-packages (1.5.1)\n",
            "----------------------------------------------------------------\n",
            "        Layer (type)               Output Shape         Param #\n",
            "================================================================\n",
            "            Conv2d-1           [-1, 64, 32, 32]           1,728\n",
            "       BatchNorm2d-2           [-1, 64, 32, 32]             128\n",
            "            Conv2d-3           [-1, 64, 32, 32]          36,864\n",
            "       BatchNorm2d-4           [-1, 64, 32, 32]             128\n",
            "            Conv2d-5           [-1, 64, 32, 32]          36,864\n",
            "       BatchNorm2d-6           [-1, 64, 32, 32]             128\n",
            "        BasicBlock-7           [-1, 64, 32, 32]               0\n",
            "            Conv2d-8           [-1, 64, 32, 32]          36,864\n",
            "       BatchNorm2d-9           [-1, 64, 32, 32]             128\n",
            "           Conv2d-10           [-1, 64, 32, 32]          36,864\n",
            "      BatchNorm2d-11           [-1, 64, 32, 32]             128\n",
            "       BasicBlock-12           [-1, 64, 32, 32]               0\n",
            "           Conv2d-13          [-1, 128, 16, 16]          73,728\n",
            "      BatchNorm2d-14          [-1, 128, 16, 16]             256\n",
            "           Conv2d-15          [-1, 128, 16, 16]         147,456\n",
            "      BatchNorm2d-16          [-1, 128, 16, 16]             256\n",
            "           Conv2d-17          [-1, 128, 16, 16]           8,192\n",
            "      BatchNorm2d-18          [-1, 128, 16, 16]             256\n",
            "       BasicBlock-19          [-1, 128, 16, 16]               0\n",
            "           Conv2d-20          [-1, 128, 16, 16]         147,456\n",
            "      BatchNorm2d-21          [-1, 128, 16, 16]             256\n",
            "           Conv2d-22          [-1, 128, 16, 16]         147,456\n",
            "      BatchNorm2d-23          [-1, 128, 16, 16]             256\n",
            "       BasicBlock-24          [-1, 128, 16, 16]               0\n",
            "           Conv2d-25            [-1, 256, 8, 8]         294,912\n",
            "      BatchNorm2d-26            [-1, 256, 8, 8]             512\n",
            "           Conv2d-27            [-1, 256, 8, 8]         589,824\n",
            "      BatchNorm2d-28            [-1, 256, 8, 8]             512\n",
            "           Conv2d-29            [-1, 256, 8, 8]          32,768\n",
            "      BatchNorm2d-30            [-1, 256, 8, 8]             512\n",
            "       BasicBlock-31            [-1, 256, 8, 8]               0\n",
            "           Conv2d-32            [-1, 256, 8, 8]         589,824\n",
            "      BatchNorm2d-33            [-1, 256, 8, 8]             512\n",
            "           Conv2d-34            [-1, 256, 8, 8]         589,824\n",
            "      BatchNorm2d-35            [-1, 256, 8, 8]             512\n",
            "       BasicBlock-36            [-1, 256, 8, 8]               0\n",
            "           Conv2d-37            [-1, 512, 4, 4]       1,179,648\n",
            "      BatchNorm2d-38            [-1, 512, 4, 4]           1,024\n",
            "           Conv2d-39            [-1, 512, 4, 4]       2,359,296\n",
            "      BatchNorm2d-40            [-1, 512, 4, 4]           1,024\n",
            "           Conv2d-41            [-1, 512, 4, 4]         131,072\n",
            "      BatchNorm2d-42            [-1, 512, 4, 4]           1,024\n",
            "       BasicBlock-43            [-1, 512, 4, 4]               0\n",
            "           Conv2d-44            [-1, 512, 4, 4]       2,359,296\n",
            "      BatchNorm2d-45            [-1, 512, 4, 4]           1,024\n",
            "           Conv2d-46            [-1, 512, 4, 4]       2,359,296\n",
            "      BatchNorm2d-47            [-1, 512, 4, 4]           1,024\n",
            "       BasicBlock-48            [-1, 512, 4, 4]               0\n",
            "           Linear-49                   [-1, 10]           5,130\n",
            "================================================================\n",
            "Total params: 11,173,962\n",
            "Trainable params: 11,173,962\n",
            "Non-trainable params: 0\n",
            "----------------------------------------------------------------\n",
            "Input size (MB): 0.01\n",
            "Forward/backward pass size (MB): 11.25\n",
            "Params size (MB): 42.63\n",
            "Estimated Total Size (MB): 53.89\n",
            "----------------------------------------------------------------\n"
          ],
          "name": "stdout"
        }
      ]
    },
    {
      "cell_type": "markdown",
      "metadata": {
        "id": "R7mBK94YMyZE",
        "colab_type": "text"
      },
      "source": [
        "# Define a Loss function and optimizer"
      ]
    },
    {
      "cell_type": "code",
      "metadata": {
        "id": "c_XJe9QTnTDV",
        "colab_type": "code",
        "outputId": "5b3dabc9-1f1a-4d4a-8511-59fc05f1c30b",
        "colab": {
          "base_uri": "https://localhost:8080/",
          "height": 349,
          "referenced_widgets": [
            "3e665c1d0cf8421f9da4c5b288bb2ec0",
            "4c8214b82c7c49b29e948b7468a96fe0",
            "f2756f4ccc084ccabbff3886594e3e31",
            "97943cc8ca64462485f75e0818507edb",
            "45dffe8d51584f18b6bfb3067e85ecd5",
            "dd26af61efec4843923735d290408d6f",
            "ee98205380ad4a5da3ac796f86f09a51",
            "7684041439a347d8ae4d34da5055a6f6"
          ]
        }
      },
      "source": [
        "from EVA4.Modules import LRFinder\n",
        "import torch.optim as optim\n",
        "\n",
        "model = net\n",
        "criterion = nn.CrossEntropyLoss()\n",
        "optimizer = optim.SGD(model.parameters(), lr=1e-7, weight_decay=1e-2,momentum=0.9)\n",
        "lr_finder = LRFinder(model, optimizer, criterion, device=\"cuda\")\n",
        "lr_finder.range_test(trainloader, end_lr=100, num_iter=100)\n",
        "lr_finder.plot() # to inspect the loss-learning rate graph\n",
        "lr_finder.reset() # to reset the model and optimizer to their initial stat"
      ],
      "execution_count": 7,
      "outputs": [
        {
          "output_type": "display_data",
          "data": {
            "application/vnd.jupyter.widget-view+json": {
              "model_id": "3e665c1d0cf8421f9da4c5b288bb2ec0",
              "version_minor": 0,
              "version_major": 2
            },
            "text/plain": [
              "HBox(children=(IntProgress(value=0), HTML(value='')))"
            ]
          },
          "metadata": {
            "tags": []
          }
        },
        {
          "output_type": "stream",
          "text": [
            "Stopping early, the loss has diverged\n",
            "Learning rate search finished. See the graph with {finder_name}.plot()\n"
          ],
          "name": "stdout"
        },
        {
          "output_type": "display_data",
          "data": {
            "image/png": "[encoded data removed]",
            "text/plain": [
              "<Figure size 432x288 with 1 Axes>"
            ]
          },
          "metadata": {
            "tags": []
          }
        }
      ]
    },
    {
      "cell_type": "code",
      "metadata": {
        "id": "zkqmf5hvr6ti",
        "colab_type": "code",
        "colab": {}
      },
      "source": [
        "criterion = nn.CrossEntropyLoss()\n",
        "optimizer = optim.SGD(net.parameters(), lr=0.1, momentum=0.9)\n",
        "scheduler = optim.lr_scheduler.ReduceLROnPlateau(optimizer, 'min',factor=0.1)"
      ],
      "execution_count": 0,
      "outputs": []
    },
    {
      "cell_type": "markdown",
      "metadata": {
        "id": "Ht1r3cpiMyZJ",
        "colab_type": "text"
      },
      "source": [
        "# Training and Testing"
      ]
    },
    {
      "cell_type": "code",
      "metadata": {
        "colab_type": "code",
        "id": "UfC8GK5yOR9u",
        "outputId": "1b7765c8-48cc-4def-9f5e-0a3d81317c60",
        "colab": {
          "base_uri": "https://localhost:8080/",
          "height": 1000
        }
      },
      "source": [
        "# Load train and test model\n",
        "from EVA4.Modules import *\n",
        "\n",
        "train = train()\n",
        "test = test()\n",
        "\n",
        "for epoch in range(50):  # loop over the dataset multiple times\n",
        "\n",
        "    train.execute(net, device, trainloader, optimizer, criterion, epoch)\n",
        "    test.execute(net, device, testloader, criterion)\n",
        "    scheduler.step(train.train_losses[-1])\n",
        "\n",
        "print('Finished Training')"
      ],
      "execution_count": 14,
      "outputs": [
        {
          "output_type": "stream",
          "text": [
            "\r  0%|          | 0/391 [00:00<?, ?it/s]"
          ],
          "name": "stderr"
        },
        {
          "output_type": "stream",
          "text": [
            "\n",
            "Epoch: 0\n"
          ],
          "name": "stdout"
        },
        {
          "output_type": "stream",
          "text": [
            "Loss=0.5458797216415405 Batch_id=390 Accuracy=83.56: 100%|██████████| 391/391 [00:28<00:00, 13.88it/s]\n",
            "  0%|          | 0/391 [00:00<?, ?it/s]"
          ],
          "name": "stderr"
        },
        {
          "output_type": "stream",
          "text": [
            "\n",
            "Test set: Average loss: 0.0034, Accuracy: 8559/10000 (85.59%)\n",
            "\n",
            "\n",
            "Epoch: 1\n"
          ],
          "name": "stdout"
        },
        {
          "output_type": "stream",
          "text": [
            "Loss=0.3493833541870117 Batch_id=390 Accuracy=84.25: 100%|██████████| 391/391 [00:28<00:00, 13.93it/s]\n",
            "  0%|          | 0/391 [00:00<?, ?it/s]"
          ],
          "name": "stderr"
        },
        {
          "output_type": "stream",
          "text": [
            "\n",
            "Test set: Average loss: 0.0032, Accuracy: 8638/10000 (86.38%)\n",
            "\n",
            "\n",
            "Epoch: 2\n"
          ],
          "name": "stdout"
        },
        {
          "output_type": "stream",
          "text": [
            "Loss=0.32248541712760925 Batch_id=390 Accuracy=85.11: 100%|██████████| 391/391 [00:28<00:00, 13.92it/s]\n",
            "  0%|          | 0/391 [00:00<?, ?it/s]"
          ],
          "name": "stderr"
        },
        {
          "output_type": "stream",
          "text": [
            "\n",
            "Test set: Average loss: 0.0034, Accuracy: 8581/10000 (85.81%)\n",
            "\n",
            "\n",
            "Epoch: 3\n"
          ],
          "name": "stdout"
        },
        {
          "output_type": "stream",
          "text": [
            "Loss=0.5031613707542419 Batch_id=390 Accuracy=85.60: 100%|██████████| 391/391 [00:27<00:00, 13.97it/s]\n",
            "  0%|          | 0/391 [00:00<?, ?it/s]"
          ],
          "name": "stderr"
        },
        {
          "output_type": "stream",
          "text": [
            "\n",
            "Test set: Average loss: 0.0030, Accuracy: 8743/10000 (87.43%)\n",
            "\n",
            "\n",
            "Epoch: 4\n"
          ],
          "name": "stdout"
        },
        {
          "output_type": "stream",
          "text": [
            "Loss=0.3586527407169342 Batch_id=390 Accuracy=86.10: 100%|██████████| 391/391 [00:27<00:00, 13.97it/s]\n",
            "  0%|          | 0/391 [00:00<?, ?it/s]"
          ],
          "name": "stderr"
        },
        {
          "output_type": "stream",
          "text": [
            "\n",
            "Test set: Average loss: 0.0033, Accuracy: 8715/10000 (87.15%)\n",
            "\n",
            "\n",
            "Epoch: 5\n"
          ],
          "name": "stdout"
        },
        {
          "output_type": "stream",
          "text": [
            "Loss=0.32855886220932007 Batch_id=390 Accuracy=86.49: 100%|██████████| 391/391 [00:28<00:00, 13.96it/s]\n",
            "  0%|          | 0/391 [00:00<?, ?it/s]"
          ],
          "name": "stderr"
        },
        {
          "output_type": "stream",
          "text": [
            "\n",
            "Test set: Average loss: 0.0033, Accuracy: 8643/10000 (86.43%)\n",
            "\n",
            "\n",
            "Epoch: 6\n"
          ],
          "name": "stdout"
        },
        {
          "output_type": "stream",
          "text": [
            "Loss=0.3731837868690491 Batch_id=390 Accuracy=87.44: 100%|██████████| 391/391 [00:27<00:00, 13.99it/s]\n",
            "  0%|          | 0/391 [00:00<?, ?it/s]"
          ],
          "name": "stderr"
        },
        {
          "output_type": "stream",
          "text": [
            "\n",
            "Test set: Average loss: 0.0030, Accuracy: 8743/10000 (87.43%)\n",
            "\n",
            "\n",
            "Epoch: 7\n"
          ],
          "name": "stdout"
        },
        {
          "output_type": "stream",
          "text": [
            "Loss=0.4415922164916992 Batch_id=390 Accuracy=87.56: 100%|██████████| 391/391 [00:28<00:00, 13.93it/s]\n",
            "  0%|          | 0/391 [00:00<?, ?it/s]"
          ],
          "name": "stderr"
        },
        {
          "output_type": "stream",
          "text": [
            "\n",
            "Test set: Average loss: 0.0030, Accuracy: 8816/10000 (88.16%)\n",
            "\n",
            "\n",
            "Epoch: 8\n"
          ],
          "name": "stdout"
        },
        {
          "output_type": "stream",
          "text": [
            "Loss=0.2773282527923584 Batch_id=390 Accuracy=88.12: 100%|██████████| 391/391 [00:27<00:00, 13.98it/s]\n",
            "  0%|          | 0/391 [00:00<?, ?it/s]"
          ],
          "name": "stderr"
        },
        {
          "output_type": "stream",
          "text": [
            "\n",
            "Test set: Average loss: 0.0030, Accuracy: 8794/10000 (87.94%)\n",
            "\n",
            "\n",
            "Epoch: 9\n"
          ],
          "name": "stdout"
        },
        {
          "output_type": "stream",
          "text": [
            "Loss=0.3354725241661072 Batch_id=390 Accuracy=88.47: 100%|██████████| 391/391 [00:27<00:00, 13.98it/s]\n",
            "  0%|          | 0/391 [00:00<?, ?it/s]"
          ],
          "name": "stderr"
        },
        {
          "output_type": "stream",
          "text": [
            "\n",
            "Test set: Average loss: 0.0030, Accuracy: 8821/10000 (88.21%)\n",
            "\n",
            "\n",
            "Epoch: 10\n"
          ],
          "name": "stdout"
        },
        {
          "output_type": "stream",
          "text": [
            "Loss=0.2681533098220825 Batch_id=390 Accuracy=88.65: 100%|██████████| 391/391 [00:27<00:00, 13.97it/s]\n",
            "  0%|          | 0/391 [00:00<?, ?it/s]"
          ],
          "name": "stderr"
        },
        {
          "output_type": "stream",
          "text": [
            "\n",
            "Test set: Average loss: 0.0031, Accuracy: 8822/10000 (88.22%)\n",
            "\n",
            "\n",
            "Epoch: 11\n"
          ],
          "name": "stdout"
        },
        {
          "output_type": "stream",
          "text": [
            "Loss=0.20633578300476074 Batch_id=390 Accuracy=89.06: 100%|██████████| 391/391 [00:27<00:00, 14.00it/s]\n",
            "  0%|          | 0/391 [00:00<?, ?it/s]"
          ],
          "name": "stderr"
        },
        {
          "output_type": "stream",
          "text": [
            "\n",
            "Test set: Average loss: 0.0028, Accuracy: 8888/10000 (88.88%)\n",
            "\n",
            "\n",
            "Epoch: 12\n"
          ],
          "name": "stdout"
        },
        {
          "output_type": "stream",
          "text": [
            "Loss=0.29352515935897827 Batch_id=390 Accuracy=89.75: 100%|██████████| 391/391 [00:27<00:00, 13.98it/s]\n",
            "  0%|          | 0/391 [00:00<?, ?it/s]"
          ],
          "name": "stderr"
        },
        {
          "output_type": "stream",
          "text": [
            "\n",
            "Test set: Average loss: 0.0029, Accuracy: 8901/10000 (89.01%)\n",
            "\n",
            "\n",
            "Epoch: 13\n"
          ],
          "name": "stdout"
        },
        {
          "output_type": "stream",
          "text": [
            "Loss=0.2902158200740814 Batch_id=390 Accuracy=90.11: 100%|██████████| 391/391 [00:28<00:00, 13.89it/s]\n",
            "  0%|          | 0/391 [00:00<?, ?it/s]"
          ],
          "name": "stderr"
        },
        {
          "output_type": "stream",
          "text": [
            "\n",
            "Test set: Average loss: 0.0029, Accuracy: 8904/10000 (89.04%)\n",
            "\n",
            "\n",
            "Epoch: 14\n"
          ],
          "name": "stdout"
        },
        {
          "output_type": "stream",
          "text": [
            "Loss=0.28191956877708435 Batch_id=390 Accuracy=90.10: 100%|██████████| 391/391 [00:27<00:00, 14.01it/s]\n",
            "  0%|          | 0/391 [00:00<?, ?it/s]"
          ],
          "name": "stderr"
        },
        {
          "output_type": "stream",
          "text": [
            "\n",
            "Test set: Average loss: 0.0027, Accuracy: 8914/10000 (89.14%)\n",
            "\n",
            "\n",
            "Epoch: 15\n"
          ],
          "name": "stdout"
        },
        {
          "output_type": "stream",
          "text": [
            "Loss=0.30949532985687256 Batch_id=390 Accuracy=90.59: 100%|██████████| 391/391 [00:28<00:00, 13.91it/s]\n",
            "  0%|          | 0/391 [00:00<?, ?it/s]"
          ],
          "name": "stderr"
        },
        {
          "output_type": "stream",
          "text": [
            "\n",
            "Test set: Average loss: 0.0027, Accuracy: 8988/10000 (89.88%)\n",
            "\n",
            "\n",
            "Epoch: 16\n"
          ],
          "name": "stdout"
        },
        {
          "output_type": "stream",
          "text": [
            "Loss=0.3355090320110321 Batch_id=390 Accuracy=90.77: 100%|██████████| 391/391 [00:27<00:00, 14.03it/s]\n",
            "  0%|          | 0/391 [00:00<?, ?it/s]"
          ],
          "name": "stderr"
        },
        {
          "output_type": "stream",
          "text": [
            "\n",
            "Test set: Average loss: 0.0027, Accuracy: 8953/10000 (89.53%)\n",
            "\n",
            "\n",
            "Epoch: 17\n"
          ],
          "name": "stdout"
        },
        {
          "output_type": "stream",
          "text": [
            "Loss=0.23585215210914612 Batch_id=390 Accuracy=90.83: 100%|██████████| 391/391 [00:28<00:00, 13.94it/s]\n",
            "  0%|          | 0/391 [00:00<?, ?it/s]"
          ],
          "name": "stderr"
        },
        {
          "output_type": "stream",
          "text": [
            "\n",
            "Test set: Average loss: 0.0028, Accuracy: 8926/10000 (89.26%)\n",
            "\n",
            "\n",
            "Epoch: 18\n"
          ],
          "name": "stdout"
        },
        {
          "output_type": "stream",
          "text": [
            "Loss=0.13876643776893616 Batch_id=390 Accuracy=91.21: 100%|██████████| 391/391 [00:27<00:00, 14.05it/s]\n",
            "  0%|          | 0/391 [00:00<?, ?it/s]"
          ],
          "name": "stderr"
        },
        {
          "output_type": "stream",
          "text": [
            "\n",
            "Test set: Average loss: 0.0027, Accuracy: 9008/10000 (90.08%)\n",
            "\n",
            "\n",
            "Epoch: 19\n"
          ],
          "name": "stdout"
        },
        {
          "output_type": "stream",
          "text": [
            "Loss=0.2766721844673157 Batch_id=390 Accuracy=91.56: 100%|██████████| 391/391 [00:27<00:00, 14.12it/s]\n",
            "  0%|          | 0/391 [00:00<?, ?it/s]"
          ],
          "name": "stderr"
        },
        {
          "output_type": "stream",
          "text": [
            "\n",
            "Test set: Average loss: 0.0027, Accuracy: 8989/10000 (89.89%)\n",
            "\n",
            "\n",
            "Epoch: 20\n"
          ],
          "name": "stdout"
        },
        {
          "output_type": "stream",
          "text": [
            "Loss=0.2943204939365387 Batch_id=390 Accuracy=91.56: 100%|██████████| 391/391 [00:27<00:00, 14.01it/s]\n",
            "  0%|          | 0/391 [00:00<?, ?it/s]"
          ],
          "name": "stderr"
        },
        {
          "output_type": "stream",
          "text": [
            "\n",
            "Test set: Average loss: 0.0031, Accuracy: 8930/10000 (89.30%)\n",
            "\n",
            "\n",
            "Epoch: 21\n"
          ],
          "name": "stdout"
        },
        {
          "output_type": "stream",
          "text": [
            "Loss=0.10539300739765167 Batch_id=390 Accuracy=91.73: 100%|██████████| 391/391 [00:27<00:00, 13.99it/s]\n",
            "  0%|          | 0/391 [00:00<?, ?it/s]"
          ],
          "name": "stderr"
        },
        {
          "output_type": "stream",
          "text": [
            "\n",
            "Test set: Average loss: 0.0028, Accuracy: 8990/10000 (89.90%)\n",
            "\n",
            "\n",
            "Epoch: 22\n"
          ],
          "name": "stdout"
        },
        {
          "output_type": "stream",
          "text": [
            "Loss=0.20918941497802734 Batch_id=390 Accuracy=92.22: 100%|██████████| 391/391 [00:27<00:00, 14.00it/s]\n",
            "  0%|          | 0/391 [00:00<?, ?it/s]"
          ],
          "name": "stderr"
        },
        {
          "output_type": "stream",
          "text": [
            "\n",
            "Test set: Average loss: 0.0026, Accuracy: 8994/10000 (89.94%)\n",
            "\n",
            "\n",
            "Epoch: 23\n"
          ],
          "name": "stdout"
        },
        {
          "output_type": "stream",
          "text": [
            "Loss=0.15444526076316833 Batch_id=390 Accuracy=92.26: 100%|██████████| 391/391 [00:28<00:00, 13.93it/s]\n",
            "  0%|          | 0/391 [00:00<?, ?it/s]"
          ],
          "name": "stderr"
        },
        {
          "output_type": "stream",
          "text": [
            "\n",
            "Test set: Average loss: 0.0026, Accuracy: 9039/10000 (90.39%)\n",
            "\n",
            "\n",
            "Epoch: 24\n"
          ],
          "name": "stdout"
        },
        {
          "output_type": "stream",
          "text": [
            "Loss=0.2454361915588379 Batch_id=390 Accuracy=92.25: 100%|██████████| 391/391 [00:28<00:00, 13.92it/s]\n",
            "  0%|          | 0/391 [00:00<?, ?it/s]"
          ],
          "name": "stderr"
        },
        {
          "output_type": "stream",
          "text": [
            "\n",
            "Test set: Average loss: 0.0026, Accuracy: 9013/10000 (90.13%)\n",
            "\n",
            "\n",
            "Epoch: 25\n"
          ],
          "name": "stdout"
        },
        {
          "output_type": "stream",
          "text": [
            "Loss=0.09385089576244354 Batch_id=390 Accuracy=92.60: 100%|██████████| 391/391 [00:28<00:00, 13.95it/s]\n",
            "  0%|          | 0/391 [00:00<?, ?it/s]"
          ],
          "name": "stderr"
        },
        {
          "output_type": "stream",
          "text": [
            "\n",
            "Test set: Average loss: 0.0029, Accuracy: 8957/10000 (89.57%)\n",
            "\n",
            "\n",
            "Epoch: 26\n"
          ],
          "name": "stdout"
        },
        {
          "output_type": "stream",
          "text": [
            "Loss=0.40435847640037537 Batch_id=390 Accuracy=92.71: 100%|██████████| 391/391 [00:28<00:00, 13.92it/s]\n",
            "  0%|          | 0/391 [00:00<?, ?it/s]"
          ],
          "name": "stderr"
        },
        {
          "output_type": "stream",
          "text": [
            "\n",
            "Test set: Average loss: 0.0028, Accuracy: 8994/10000 (89.94%)\n",
            "\n",
            "\n",
            "Epoch: 27\n"
          ],
          "name": "stdout"
        },
        {
          "output_type": "stream",
          "text": [
            "Loss=0.1709647923707962 Batch_id=390 Accuracy=92.75: 100%|██████████| 391/391 [00:28<00:00, 13.89it/s]\n",
            "  0%|          | 0/391 [00:00<?, ?it/s]"
          ],
          "name": "stderr"
        },
        {
          "output_type": "stream",
          "text": [
            "\n",
            "Test set: Average loss: 0.0030, Accuracy: 8988/10000 (89.88%)\n",
            "\n",
            "\n",
            "Epoch: 28\n"
          ],
          "name": "stdout"
        },
        {
          "output_type": "stream",
          "text": [
            "Loss=0.1915314942598343 Batch_id=390 Accuracy=92.98: 100%|██████████| 391/391 [00:27<00:00, 14.05it/s]\n",
            "  0%|          | 0/391 [00:00<?, ?it/s]"
          ],
          "name": "stderr"
        },
        {
          "output_type": "stream",
          "text": [
            "\n",
            "Test set: Average loss: 0.0029, Accuracy: 8965/10000 (89.65%)\n",
            "\n",
            "\n",
            "Epoch: 29\n"
          ],
          "name": "stdout"
        },
        {
          "output_type": "stream",
          "text": [
            "Loss=0.09544149041175842 Batch_id=390 Accuracy=93.04: 100%|██████████| 391/391 [00:27<00:00, 14.00it/s]\n",
            "  0%|          | 0/391 [00:00<?, ?it/s]"
          ],
          "name": "stderr"
        },
        {
          "output_type": "stream",
          "text": [
            "\n",
            "Test set: Average loss: 0.0027, Accuracy: 9073/10000 (90.73%)\n",
            "\n",
            "\n",
            "Epoch: 30\n"
          ],
          "name": "stdout"
        },
        {
          "output_type": "stream",
          "text": [
            "Loss=0.31623807549476624 Batch_id=390 Accuracy=93.09: 100%|██████████| 391/391 [00:27<00:00, 13.98it/s]\n",
            "  0%|          | 0/391 [00:00<?, ?it/s]"
          ],
          "name": "stderr"
        },
        {
          "output_type": "stream",
          "text": [
            "\n",
            "Test set: Average loss: 0.0028, Accuracy: 9054/10000 (90.54%)\n",
            "\n",
            "\n",
            "Epoch: 31\n"
          ],
          "name": "stdout"
        },
        {
          "output_type": "stream",
          "text": [
            "Loss=0.14843282103538513 Batch_id=390 Accuracy=93.24: 100%|██████████| 391/391 [00:28<00:00, 13.95it/s]\n",
            "  0%|          | 0/391 [00:00<?, ?it/s]"
          ],
          "name": "stderr"
        },
        {
          "output_type": "stream",
          "text": [
            "\n",
            "Test set: Average loss: 0.0027, Accuracy: 9016/10000 (90.16%)\n",
            "\n",
            "\n",
            "Epoch: 32\n"
          ],
          "name": "stdout"
        },
        {
          "output_type": "stream",
          "text": [
            "Loss=0.2748357653617859 Batch_id=390 Accuracy=93.45: 100%|██████████| 391/391 [00:27<00:00, 13.98it/s]\n",
            "  0%|          | 0/391 [00:00<?, ?it/s]"
          ],
          "name": "stderr"
        },
        {
          "output_type": "stream",
          "text": [
            "\n",
            "Test set: Average loss: 0.0027, Accuracy: 9061/10000 (90.61%)\n",
            "\n",
            "\n",
            "Epoch: 33\n"
          ],
          "name": "stdout"
        },
        {
          "output_type": "stream",
          "text": [
            "Loss=0.10502245277166367 Batch_id=390 Accuracy=93.38: 100%|██████████| 391/391 [00:27<00:00, 14.00it/s]\n",
            "  0%|          | 0/391 [00:00<?, ?it/s]"
          ],
          "name": "stderr"
        },
        {
          "output_type": "stream",
          "text": [
            "\n",
            "Test set: Average loss: 0.0025, Accuracy: 9071/10000 (90.71%)\n",
            "\n",
            "\n",
            "Epoch: 34\n"
          ],
          "name": "stdout"
        },
        {
          "output_type": "stream",
          "text": [
            "Loss=0.2622630298137665 Batch_id=390 Accuracy=93.46: 100%|██████████| 391/391 [00:27<00:00, 14.04it/s]\n",
            "  0%|          | 0/391 [00:00<?, ?it/s]"
          ],
          "name": "stderr"
        },
        {
          "output_type": "stream",
          "text": [
            "\n",
            "Test set: Average loss: 0.0026, Accuracy: 9082/10000 (90.82%)\n",
            "\n",
            "\n",
            "Epoch: 35\n"
          ],
          "name": "stdout"
        },
        {
          "output_type": "stream",
          "text": [
            "Loss=0.26886609196662903 Batch_id=390 Accuracy=93.66: 100%|██████████| 391/391 [00:28<00:00, 13.88it/s]\n",
            "  0%|          | 0/391 [00:00<?, ?it/s]"
          ],
          "name": "stderr"
        },
        {
          "output_type": "stream",
          "text": [
            "\n",
            "Test set: Average loss: 0.0028, Accuracy: 9079/10000 (90.79%)\n",
            "\n",
            "\n",
            "Epoch: 36\n"
          ],
          "name": "stdout"
        },
        {
          "output_type": "stream",
          "text": [
            "Loss=0.280977725982666 Batch_id=390 Accuracy=93.77: 100%|██████████| 391/391 [00:28<00:00, 13.88it/s]\n",
            "  0%|          | 0/391 [00:00<?, ?it/s]"
          ],
          "name": "stderr"
        },
        {
          "output_type": "stream",
          "text": [
            "\n",
            "Test set: Average loss: 0.0026, Accuracy: 9059/10000 (90.59%)\n",
            "\n",
            "\n",
            "Epoch: 37\n"
          ],
          "name": "stdout"
        },
        {
          "output_type": "stream",
          "text": [
            "Loss=0.21354278922080994 Batch_id=390 Accuracy=95.00: 100%|██████████| 391/391 [00:28<00:00, 13.72it/s]\n",
            "  0%|          | 0/391 [00:00<?, ?it/s]"
          ],
          "name": "stderr"
        },
        {
          "output_type": "stream",
          "text": [
            "\n",
            "Test set: Average loss: 0.0023, Accuracy: 9188/10000 (91.88%)\n",
            "\n",
            "\n",
            "Epoch: 38\n"
          ],
          "name": "stdout"
        },
        {
          "output_type": "stream",
          "text": [
            "Loss=0.10931488126516342 Batch_id=390 Accuracy=95.32: 100%|██████████| 391/391 [00:28<00:00, 13.81it/s]\n",
            "  0%|          | 0/391 [00:00<?, ?it/s]"
          ],
          "name": "stderr"
        },
        {
          "output_type": "stream",
          "text": [
            "\n",
            "Test set: Average loss: 0.0023, Accuracy: 9209/10000 (92.09%)\n",
            "\n",
            "\n",
            "Epoch: 39\n"
          ],
          "name": "stdout"
        },
        {
          "output_type": "stream",
          "text": [
            "Loss=0.1010424867272377 Batch_id=390 Accuracy=95.58: 100%|██████████| 391/391 [00:28<00:00, 13.83it/s]\n",
            "  0%|          | 0/391 [00:00<?, ?it/s]"
          ],
          "name": "stderr"
        },
        {
          "output_type": "stream",
          "text": [
            "\n",
            "Test set: Average loss: 0.0022, Accuracy: 9221/10000 (92.21%)\n",
            "\n",
            "\n",
            "Epoch: 40\n"
          ],
          "name": "stdout"
        },
        {
          "output_type": "stream",
          "text": [
            "Loss=0.13890588283538818 Batch_id=390 Accuracy=95.69: 100%|██████████| 391/391 [00:28<00:00, 13.74it/s]\n",
            "  0%|          | 0/391 [00:00<?, ?it/s]"
          ],
          "name": "stderr"
        },
        {
          "output_type": "stream",
          "text": [
            "\n",
            "Test set: Average loss: 0.0022, Accuracy: 9225/10000 (92.25%)\n",
            "\n",
            "\n",
            "Epoch: 41\n"
          ],
          "name": "stdout"
        },
        {
          "output_type": "stream",
          "text": [
            "Loss=0.2672862410545349 Batch_id=390 Accuracy=95.79: 100%|██████████| 391/391 [00:28<00:00, 13.84it/s]\n",
            "  0%|          | 0/391 [00:00<?, ?it/s]"
          ],
          "name": "stderr"
        },
        {
          "output_type": "stream",
          "text": [
            "\n",
            "Test set: Average loss: 0.0022, Accuracy: 9252/10000 (92.52%)\n",
            "\n",
            "\n",
            "Epoch: 42\n"
          ],
          "name": "stdout"
        },
        {
          "output_type": "stream",
          "text": [
            "Loss=0.02830369397997856 Batch_id=390 Accuracy=95.74: 100%|██████████| 391/391 [00:28<00:00, 13.79it/s]\n",
            "  0%|          | 0/391 [00:00<?, ?it/s]"
          ],
          "name": "stderr"
        },
        {
          "output_type": "stream",
          "text": [
            "\n",
            "Test set: Average loss: 0.0022, Accuracy: 9264/10000 (92.64%)\n",
            "\n",
            "\n",
            "Epoch: 43\n"
          ],
          "name": "stdout"
        },
        {
          "output_type": "stream",
          "text": [
            "Loss=0.05207473784685135 Batch_id=390 Accuracy=95.76: 100%|██████████| 391/391 [00:28<00:00, 13.65it/s]\n",
            "  0%|          | 0/391 [00:00<?, ?it/s]"
          ],
          "name": "stderr"
        },
        {
          "output_type": "stream",
          "text": [
            "\n",
            "Test set: Average loss: 0.0022, Accuracy: 9241/10000 (92.41%)\n",
            "\n",
            "\n",
            "Epoch: 44\n"
          ],
          "name": "stdout"
        },
        {
          "output_type": "stream",
          "text": [
            "Loss=0.10638248920440674 Batch_id=390 Accuracy=95.91: 100%|██████████| 391/391 [00:28<00:00, 13.83it/s]\n",
            "  0%|          | 0/391 [00:00<?, ?it/s]"
          ],
          "name": "stderr"
        },
        {
          "output_type": "stream",
          "text": [
            "\n",
            "Test set: Average loss: 0.0022, Accuracy: 9245/10000 (92.45%)\n",
            "\n",
            "\n",
            "Epoch: 45\n"
          ],
          "name": "stdout"
        },
        {
          "output_type": "stream",
          "text": [
            "Loss=0.11105842888355255 Batch_id=390 Accuracy=95.94: 100%|██████████| 391/391 [00:28<00:00, 13.87it/s]\n",
            "  0%|          | 0/391 [00:00<?, ?it/s]"
          ],
          "name": "stderr"
        },
        {
          "output_type": "stream",
          "text": [
            "\n",
            "Test set: Average loss: 0.0022, Accuracy: 9247/10000 (92.47%)\n",
            "\n",
            "\n",
            "Epoch: 46\n"
          ],
          "name": "stdout"
        },
        {
          "output_type": "stream",
          "text": [
            "Loss=0.0832848995923996 Batch_id=390 Accuracy=95.95: 100%|██████████| 391/391 [00:27<00:00, 14.03it/s]\n",
            "  0%|          | 0/391 [00:00<?, ?it/s]"
          ],
          "name": "stderr"
        },
        {
          "output_type": "stream",
          "text": [
            "\n",
            "Test set: Average loss: 0.0022, Accuracy: 9249/10000 (92.49%)\n",
            "\n",
            "\n",
            "Epoch: 47\n"
          ],
          "name": "stdout"
        },
        {
          "output_type": "stream",
          "text": [
            "Loss=0.0885782465338707 Batch_id=390 Accuracy=95.96: 100%|██████████| 391/391 [00:28<00:00, 13.94it/s]\n",
            "  0%|          | 0/391 [00:00<?, ?it/s]"
          ],
          "name": "stderr"
        },
        {
          "output_type": "stream",
          "text": [
            "\n",
            "Test set: Average loss: 0.0023, Accuracy: 9271/10000 (92.71%)\n",
            "\n",
            "\n",
            "Epoch: 48\n"
          ],
          "name": "stdout"
        },
        {
          "output_type": "stream",
          "text": [
            "Loss=0.18310660123825073 Batch_id=390 Accuracy=96.03: 100%|██████████| 391/391 [00:28<00:00, 13.94it/s]\n",
            "  0%|          | 0/391 [00:00<?, ?it/s]"
          ],
          "name": "stderr"
        },
        {
          "output_type": "stream",
          "text": [
            "\n",
            "Test set: Average loss: 0.0023, Accuracy: 9267/10000 (92.67%)\n",
            "\n",
            "\n",
            "Epoch: 49\n"
          ],
          "name": "stdout"
        },
        {
          "output_type": "stream",
          "text": [
            "Loss=0.08036552369594574 Batch_id=390 Accuracy=96.06: 100%|██████████| 391/391 [00:28<00:00, 13.92it/s]\n",
            "  0%|          | 0/391 [00:00<?, ?it/s]"
          ],
          "name": "stderr"
        },
        {
          "output_type": "stream",
          "text": [
            "\n",
            "Test set: Average loss: 0.0022, Accuracy: 9256/10000 (92.56%)\n",
            "\n",
            "\n",
            "Epoch: 50\n"
          ],
          "name": "stdout"
        },
        {
          "output_type": "stream",
          "text": [
            "Loss=0.06091304495930672 Batch_id=390 Accuracy=96.21: 100%|██████████| 391/391 [00:27<00:00, 14.06it/s]\n",
            "  0%|          | 0/391 [00:00<?, ?it/s]"
          ],
          "name": "stderr"
        },
        {
          "output_type": "stream",
          "text": [
            "\n",
            "Test set: Average loss: 0.0022, Accuracy: 9264/10000 (92.64%)\n",
            "\n",
            "\n",
            "Epoch: 51\n"
          ],
          "name": "stdout"
        },
        {
          "output_type": "stream",
          "text": [
            "Loss=0.1851925104856491 Batch_id=390 Accuracy=96.16: 100%|██████████| 391/391 [00:27<00:00, 14.05it/s]\n",
            "  0%|          | 0/391 [00:00<?, ?it/s]"
          ],
          "name": "stderr"
        },
        {
          "output_type": "stream",
          "text": [
            "\n",
            "Test set: Average loss: 0.0023, Accuracy: 9260/10000 (92.60%)\n",
            "\n",
            "\n",
            "Epoch: 52\n"
          ],
          "name": "stdout"
        },
        {
          "output_type": "stream",
          "text": [
            "Loss=0.08592250198125839 Batch_id=390 Accuracy=96.17: 100%|██████████| 391/391 [00:27<00:00, 14.00it/s]\n",
            "  0%|          | 0/391 [00:00<?, ?it/s]"
          ],
          "name": "stderr"
        },
        {
          "output_type": "stream",
          "text": [
            "\n",
            "Test set: Average loss: 0.0023, Accuracy: 9246/10000 (92.46%)\n",
            "\n",
            "\n",
            "Epoch: 53\n"
          ],
          "name": "stdout"
        },
        {
          "output_type": "stream",
          "text": [
            "Loss=0.0532936230301857 Batch_id=390 Accuracy=96.09: 100%|██████████| 391/391 [00:27<00:00, 14.05it/s]\n",
            "  0%|          | 0/391 [00:00<?, ?it/s]"
          ],
          "name": "stderr"
        },
        {
          "output_type": "stream",
          "text": [
            "\n",
            "Test set: Average loss: 0.0022, Accuracy: 9266/10000 (92.66%)\n",
            "\n",
            "\n",
            "Epoch: 54\n"
          ],
          "name": "stdout"
        },
        {
          "output_type": "stream",
          "text": [
            "Loss=0.06802262365818024 Batch_id=390 Accuracy=96.26: 100%|██████████| 391/391 [00:28<00:00, 13.84it/s]\n",
            "  0%|          | 0/391 [00:00<?, ?it/s]"
          ],
          "name": "stderr"
        },
        {
          "output_type": "stream",
          "text": [
            "\n",
            "Test set: Average loss: 0.0023, Accuracy: 9266/10000 (92.66%)\n",
            "\n",
            "\n",
            "Epoch: 55\n"
          ],
          "name": "stdout"
        },
        {
          "output_type": "stream",
          "text": [
            "Loss=0.11816276609897614 Batch_id=390 Accuracy=96.23: 100%|██████████| 391/391 [00:28<00:00, 13.86it/s]\n",
            "  0%|          | 0/391 [00:00<?, ?it/s]"
          ],
          "name": "stderr"
        },
        {
          "output_type": "stream",
          "text": [
            "\n",
            "Test set: Average loss: 0.0022, Accuracy: 9253/10000 (92.53%)\n",
            "\n",
            "\n",
            "Epoch: 56\n"
          ],
          "name": "stdout"
        },
        {
          "output_type": "stream",
          "text": [
            "Loss=0.10802443325519562 Batch_id=390 Accuracy=96.29: 100%|██████████| 391/391 [00:27<00:00, 14.00it/s]\n",
            "  0%|          | 0/391 [00:00<?, ?it/s]"
          ],
          "name": "stderr"
        },
        {
          "output_type": "stream",
          "text": [
            "\n",
            "Test set: Average loss: 0.0022, Accuracy: 9258/10000 (92.58%)\n",
            "\n",
            "\n",
            "Epoch: 57\n"
          ],
          "name": "stdout"
        },
        {
          "output_type": "stream",
          "text": [
            "Loss=0.13828550279140472 Batch_id=390 Accuracy=96.35: 100%|██████████| 391/391 [00:27<00:00, 14.02it/s]\n",
            "  0%|          | 0/391 [00:00<?, ?it/s]"
          ],
          "name": "stderr"
        },
        {
          "output_type": "stream",
          "text": [
            "\n",
            "Test set: Average loss: 0.0022, Accuracy: 9262/10000 (92.62%)\n",
            "\n",
            "\n",
            "Epoch: 58\n"
          ],
          "name": "stdout"
        },
        {
          "output_type": "stream",
          "text": [
            "Loss=0.16507752239704132 Batch_id=390 Accuracy=96.32: 100%|██████████| 391/391 [00:28<00:00, 13.90it/s]\n",
            "  0%|          | 0/391 [00:00<?, ?it/s]"
          ],
          "name": "stderr"
        },
        {
          "output_type": "stream",
          "text": [
            "\n",
            "Test set: Average loss: 0.0022, Accuracy: 9262/10000 (92.62%)\n",
            "\n",
            "\n",
            "Epoch: 59\n"
          ],
          "name": "stdout"
        },
        {
          "output_type": "stream",
          "text": [
            "Loss=0.09212169051170349 Batch_id=390 Accuracy=96.22: 100%|██████████| 391/391 [00:28<00:00, 13.88it/s]\n",
            "  0%|          | 0/391 [00:00<?, ?it/s]"
          ],
          "name": "stderr"
        },
        {
          "output_type": "stream",
          "text": [
            "\n",
            "Test set: Average loss: 0.0022, Accuracy: 9265/10000 (92.65%)\n",
            "\n",
            "\n",
            "Epoch: 60\n"
          ],
          "name": "stdout"
        },
        {
          "output_type": "stream",
          "text": [
            "Loss=0.09601320326328278 Batch_id=390 Accuracy=96.19: 100%|██████████| 391/391 [00:28<00:00, 13.95it/s]\n",
            "  0%|          | 0/391 [00:00<?, ?it/s]"
          ],
          "name": "stderr"
        },
        {
          "output_type": "stream",
          "text": [
            "\n",
            "Test set: Average loss: 0.0022, Accuracy: 9260/10000 (92.60%)\n",
            "\n",
            "\n",
            "Epoch: 61\n"
          ],
          "name": "stdout"
        },
        {
          "output_type": "stream",
          "text": [
            "Loss=0.07712363451719284 Batch_id=390 Accuracy=96.28: 100%|██████████| 391/391 [00:28<00:00, 13.80it/s]\n",
            "  0%|          | 0/391 [00:00<?, ?it/s]"
          ],
          "name": "stderr"
        },
        {
          "output_type": "stream",
          "text": [
            "\n",
            "Test set: Average loss: 0.0023, Accuracy: 9256/10000 (92.56%)\n",
            "\n",
            "\n",
            "Epoch: 62\n"
          ],
          "name": "stdout"
        },
        {
          "output_type": "stream",
          "text": [
            "Loss=0.04469398781657219 Batch_id=390 Accuracy=96.40: 100%|██████████| 391/391 [00:28<00:00, 13.77it/s]\n",
            "  0%|          | 0/391 [00:00<?, ?it/s]"
          ],
          "name": "stderr"
        },
        {
          "output_type": "stream",
          "text": [
            "\n",
            "Test set: Average loss: 0.0023, Accuracy: 9264/10000 (92.64%)\n",
            "\n",
            "\n",
            "Epoch: 63\n"
          ],
          "name": "stdout"
        },
        {
          "output_type": "stream",
          "text": [
            "Loss=0.05357092618942261 Batch_id=390 Accuracy=96.42: 100%|██████████| 391/391 [00:28<00:00, 13.80it/s]\n",
            "  0%|          | 0/391 [00:00<?, ?it/s]"
          ],
          "name": "stderr"
        },
        {
          "output_type": "stream",
          "text": [
            "\n",
            "Test set: Average loss: 0.0022, Accuracy: 9264/10000 (92.64%)\n",
            "\n",
            "\n",
            "Epoch: 64\n"
          ],
          "name": "stdout"
        },
        {
          "output_type": "stream",
          "text": [
            "Loss=0.042844004929065704 Batch_id=390 Accuracy=96.28: 100%|██████████| 391/391 [00:28<00:00, 13.78it/s]\n",
            "  0%|          | 0/391 [00:00<?, ?it/s]"
          ],
          "name": "stderr"
        },
        {
          "output_type": "stream",
          "text": [
            "\n",
            "Test set: Average loss: 0.0022, Accuracy: 9256/10000 (92.56%)\n",
            "\n",
            "\n",
            "Epoch: 65\n"
          ],
          "name": "stdout"
        },
        {
          "output_type": "stream",
          "text": [
            "Loss=0.1095934510231018 Batch_id=390 Accuracy=96.43: 100%|██████████| 391/391 [00:28<00:00, 13.92it/s]\n",
            "  0%|          | 0/391 [00:00<?, ?it/s]"
          ],
          "name": "stderr"
        },
        {
          "output_type": "stream",
          "text": [
            "\n",
            "Test set: Average loss: 0.0022, Accuracy: 9266/10000 (92.66%)\n",
            "\n",
            "\n",
            "Epoch: 66\n"
          ],
          "name": "stdout"
        },
        {
          "output_type": "stream",
          "text": [
            "Loss=0.1038489118218422 Batch_id=390 Accuracy=96.33: 100%|██████████| 391/391 [00:28<00:00, 13.78it/s]\n",
            "  0%|          | 0/391 [00:00<?, ?it/s]"
          ],
          "name": "stderr"
        },
        {
          "output_type": "stream",
          "text": [
            "\n",
            "Test set: Average loss: 0.0022, Accuracy: 9261/10000 (92.61%)\n",
            "\n",
            "\n",
            "Epoch: 67\n"
          ],
          "name": "stdout"
        },
        {
          "output_type": "stream",
          "text": [
            "Loss=0.04509393498301506 Batch_id=390 Accuracy=96.23: 100%|██████████| 391/391 [00:28<00:00, 13.78it/s]\n",
            "  0%|          | 0/391 [00:00<?, ?it/s]"
          ],
          "name": "stderr"
        },
        {
          "output_type": "stream",
          "text": [
            "\n",
            "Test set: Average loss: 0.0022, Accuracy: 9257/10000 (92.57%)\n",
            "\n",
            "\n",
            "Epoch: 68\n"
          ],
          "name": "stdout"
        },
        {
          "output_type": "stream",
          "text": [
            "Loss=0.1458582878112793 Batch_id=390 Accuracy=96.31: 100%|██████████| 391/391 [00:28<00:00, 13.96it/s]\n",
            "  0%|          | 0/391 [00:00<?, ?it/s]"
          ],
          "name": "stderr"
        },
        {
          "output_type": "stream",
          "text": [
            "\n",
            "Test set: Average loss: 0.0022, Accuracy: 9270/10000 (92.70%)\n",
            "\n",
            "\n",
            "Epoch: 69\n"
          ],
          "name": "stdout"
        },
        {
          "output_type": "stream",
          "text": [
            "Loss=0.17808859050273895 Batch_id=390 Accuracy=96.43: 100%|██████████| 391/391 [00:28<00:00, 13.81it/s]\n",
            "  0%|          | 0/391 [00:00<?, ?it/s]"
          ],
          "name": "stderr"
        },
        {
          "output_type": "stream",
          "text": [
            "\n",
            "Test set: Average loss: 0.0023, Accuracy: 9265/10000 (92.65%)\n",
            "\n",
            "\n",
            "Epoch: 70\n"
          ],
          "name": "stdout"
        },
        {
          "output_type": "stream",
          "text": [
            "Loss=0.09178805351257324 Batch_id=390 Accuracy=96.44: 100%|██████████| 391/391 [00:28<00:00, 13.74it/s]\n",
            "  0%|          | 0/391 [00:00<?, ?it/s]"
          ],
          "name": "stderr"
        },
        {
          "output_type": "stream",
          "text": [
            "\n",
            "Test set: Average loss: 0.0022, Accuracy: 9273/10000 (92.73%)\n",
            "\n",
            "\n",
            "Epoch: 71\n"
          ],
          "name": "stdout"
        },
        {
          "output_type": "stream",
          "text": [
            "Loss=0.1528441607952118 Batch_id=390 Accuracy=96.33: 100%|██████████| 391/391 [00:28<00:00, 13.77it/s]\n",
            "  0%|          | 0/391 [00:00<?, ?it/s]"
          ],
          "name": "stderr"
        },
        {
          "output_type": "stream",
          "text": [
            "\n",
            "Test set: Average loss: 0.0022, Accuracy: 9264/10000 (92.64%)\n",
            "\n",
            "\n",
            "Epoch: 72\n"
          ],
          "name": "stdout"
        },
        {
          "output_type": "stream",
          "text": [
            "Loss=0.0631084144115448 Batch_id=390 Accuracy=96.42: 100%|██████████| 391/391 [00:28<00:00, 13.74it/s]\n",
            "  0%|          | 0/391 [00:00<?, ?it/s]"
          ],
          "name": "stderr"
        },
        {
          "output_type": "stream",
          "text": [
            "\n",
            "Test set: Average loss: 0.0022, Accuracy: 9267/10000 (92.67%)\n",
            "\n",
            "\n",
            "Epoch: 73\n"
          ],
          "name": "stdout"
        },
        {
          "output_type": "stream",
          "text": [
            "Loss=0.09595202654600143 Batch_id=390 Accuracy=96.31: 100%|██████████| 391/391 [00:28<00:00, 13.85it/s]\n",
            "  0%|          | 0/391 [00:00<?, ?it/s]"
          ],
          "name": "stderr"
        },
        {
          "output_type": "stream",
          "text": [
            "\n",
            "Test set: Average loss: 0.0022, Accuracy: 9273/10000 (92.73%)\n",
            "\n",
            "\n",
            "Epoch: 74\n"
          ],
          "name": "stdout"
        },
        {
          "output_type": "stream",
          "text": [
            "Loss=0.10462673753499985 Batch_id=390 Accuracy=96.53: 100%|██████████| 391/391 [00:28<00:00, 13.83it/s]\n",
            "  0%|          | 0/391 [00:00<?, ?it/s]"
          ],
          "name": "stderr"
        },
        {
          "output_type": "stream",
          "text": [
            "\n",
            "Test set: Average loss: 0.0022, Accuracy: 9270/10000 (92.70%)\n",
            "\n",
            "\n",
            "Epoch: 75\n"
          ],
          "name": "stdout"
        },
        {
          "output_type": "stream",
          "text": [
            "Loss=0.08595021814107895 Batch_id=390 Accuracy=96.44: 100%|██████████| 391/391 [00:28<00:00, 13.91it/s]\n",
            "  0%|          | 0/391 [00:00<?, ?it/s]"
          ],
          "name": "stderr"
        },
        {
          "output_type": "stream",
          "text": [
            "\n",
            "Test set: Average loss: 0.0022, Accuracy: 9269/10000 (92.69%)\n",
            "\n",
            "\n",
            "Epoch: 76\n"
          ],
          "name": "stdout"
        },
        {
          "output_type": "stream",
          "text": [
            "Loss=0.09137613326311111 Batch_id=390 Accuracy=96.47: 100%|██████████| 391/391 [00:28<00:00, 13.89it/s]\n",
            "  0%|          | 0/391 [00:00<?, ?it/s]"
          ],
          "name": "stderr"
        },
        {
          "output_type": "stream",
          "text": [
            "\n",
            "Test set: Average loss: 0.0022, Accuracy: 9264/10000 (92.64%)\n",
            "\n",
            "\n",
            "Epoch: 77\n"
          ],
          "name": "stdout"
        },
        {
          "output_type": "stream",
          "text": [
            "Loss=0.07458598911762238 Batch_id=390 Accuracy=96.31: 100%|██████████| 391/391 [00:27<00:00, 13.98it/s]\n",
            "  0%|          | 0/391 [00:00<?, ?it/s]"
          ],
          "name": "stderr"
        },
        {
          "output_type": "stream",
          "text": [
            "\n",
            "Test set: Average loss: 0.0022, Accuracy: 9251/10000 (92.51%)\n",
            "\n",
            "\n",
            "Epoch: 78\n"
          ],
          "name": "stdout"
        },
        {
          "output_type": "stream",
          "text": [
            "Loss=0.11226718127727509 Batch_id=390 Accuracy=96.44: 100%|██████████| 391/391 [00:28<00:00, 13.90it/s]\n",
            "  0%|          | 0/391 [00:00<?, ?it/s]"
          ],
          "name": "stderr"
        },
        {
          "output_type": "stream",
          "text": [
            "\n",
            "Test set: Average loss: 0.0022, Accuracy: 9271/10000 (92.71%)\n",
            "\n",
            "\n",
            "Epoch: 79\n"
          ],
          "name": "stdout"
        },
        {
          "output_type": "stream",
          "text": [
            "Loss=0.08895649015903473 Batch_id=390 Accuracy=96.40: 100%|██████████| 391/391 [00:28<00:00, 13.85it/s]\n",
            "  0%|          | 0/391 [00:00<?, ?it/s]"
          ],
          "name": "stderr"
        },
        {
          "output_type": "stream",
          "text": [
            "\n",
            "Test set: Average loss: 0.0022, Accuracy: 9271/10000 (92.71%)\n",
            "\n",
            "\n",
            "Epoch: 80\n"
          ],
          "name": "stdout"
        },
        {
          "output_type": "stream",
          "text": [
            "Loss=0.1887560784816742 Batch_id=390 Accuracy=96.47: 100%|██████████| 391/391 [00:28<00:00, 13.93it/s]\n",
            "  0%|          | 0/391 [00:00<?, ?it/s]"
          ],
          "name": "stderr"
        },
        {
          "output_type": "stream",
          "text": [
            "\n",
            "Test set: Average loss: 0.0022, Accuracy: 9273/10000 (92.73%)\n",
            "\n",
            "\n",
            "Epoch: 81\n"
          ],
          "name": "stdout"
        },
        {
          "output_type": "stream",
          "text": [
            "Loss=0.12133578211069107 Batch_id=390 Accuracy=96.34: 100%|██████████| 391/391 [00:28<00:00, 13.94it/s]\n",
            "  0%|          | 0/391 [00:00<?, ?it/s]"
          ],
          "name": "stderr"
        },
        {
          "output_type": "stream",
          "text": [
            "\n",
            "Test set: Average loss: 0.0022, Accuracy: 9264/10000 (92.64%)\n",
            "\n",
            "\n",
            "Epoch: 82\n"
          ],
          "name": "stdout"
        },
        {
          "output_type": "stream",
          "text": [
            "Loss=0.11471645534038544 Batch_id=390 Accuracy=96.35: 100%|██████████| 391/391 [00:28<00:00, 13.89it/s]\n",
            "  0%|          | 0/391 [00:00<?, ?it/s]"
          ],
          "name": "stderr"
        },
        {
          "output_type": "stream",
          "text": [
            "\n",
            "Test set: Average loss: 0.0022, Accuracy: 9267/10000 (92.67%)\n",
            "\n",
            "\n",
            "Epoch: 83\n"
          ],
          "name": "stdout"
        },
        {
          "output_type": "stream",
          "text": [
            "Loss=0.08221755921840668 Batch_id=390 Accuracy=96.31: 100%|██████████| 391/391 [00:28<00:00, 13.88it/s]\n",
            "  0%|          | 0/391 [00:00<?, ?it/s]"
          ],
          "name": "stderr"
        },
        {
          "output_type": "stream",
          "text": [
            "\n",
            "Test set: Average loss: 0.0022, Accuracy: 9264/10000 (92.64%)\n",
            "\n",
            "\n",
            "Epoch: 84\n"
          ],
          "name": "stdout"
        },
        {
          "output_type": "stream",
          "text": [
            "Loss=0.016767781227827072 Batch_id=390 Accuracy=96.44: 100%|██████████| 391/391 [00:28<00:00, 13.84it/s]\n",
            "  0%|          | 0/391 [00:00<?, ?it/s]"
          ],
          "name": "stderr"
        },
        {
          "output_type": "stream",
          "text": [
            "\n",
            "Test set: Average loss: 0.0022, Accuracy: 9270/10000 (92.70%)\n",
            "\n",
            "\n",
            "Epoch: 85\n"
          ],
          "name": "stdout"
        },
        {
          "output_type": "stream",
          "text": [
            "Loss=0.20200662314891815 Batch_id=390 Accuracy=96.36: 100%|██████████| 391/391 [00:28<00:00, 13.92it/s]\n",
            "  0%|          | 0/391 [00:00<?, ?it/s]"
          ],
          "name": "stderr"
        },
        {
          "output_type": "stream",
          "text": [
            "\n",
            "Test set: Average loss: 0.0022, Accuracy: 9270/10000 (92.70%)\n",
            "\n",
            "\n",
            "Epoch: 86\n"
          ],
          "name": "stdout"
        },
        {
          "output_type": "stream",
          "text": [
            "Loss=0.03322475031018257 Batch_id=390 Accuracy=96.36: 100%|██████████| 391/391 [00:27<00:00, 13.99it/s]\n",
            "  0%|          | 0/391 [00:00<?, ?it/s]"
          ],
          "name": "stderr"
        },
        {
          "output_type": "stream",
          "text": [
            "\n",
            "Test set: Average loss: 0.0022, Accuracy: 9262/10000 (92.62%)\n",
            "\n",
            "\n",
            "Epoch: 87\n"
          ],
          "name": "stdout"
        },
        {
          "output_type": "stream",
          "text": [
            "Loss=0.0406482070684433 Batch_id=390 Accuracy=96.42: 100%|██████████| 391/391 [00:27<00:00, 14.02it/s]\n",
            "  0%|          | 0/391 [00:00<?, ?it/s]"
          ],
          "name": "stderr"
        },
        {
          "output_type": "stream",
          "text": [
            "\n",
            "Test set: Average loss: 0.0022, Accuracy: 9264/10000 (92.64%)\n",
            "\n",
            "\n",
            "Epoch: 88\n"
          ],
          "name": "stdout"
        },
        {
          "output_type": "stream",
          "text": [
            "Loss=0.09473013132810593 Batch_id=390 Accuracy=96.28: 100%|██████████| 391/391 [00:28<00:00, 13.88it/s]\n",
            "  0%|          | 0/391 [00:00<?, ?it/s]"
          ],
          "name": "stderr"
        },
        {
          "output_type": "stream",
          "text": [
            "\n",
            "Test set: Average loss: 0.0022, Accuracy: 9263/10000 (92.63%)\n",
            "\n",
            "\n",
            "Epoch: 89\n"
          ],
          "name": "stdout"
        },
        {
          "output_type": "stream",
          "text": [
            "Loss=0.16161932051181793 Batch_id=390 Accuracy=96.42: 100%|██████████| 391/391 [00:27<00:00, 13.96it/s]\n",
            "  0%|          | 0/391 [00:00<?, ?it/s]"
          ],
          "name": "stderr"
        },
        {
          "output_type": "stream",
          "text": [
            "\n",
            "Test set: Average loss: 0.0022, Accuracy: 9266/10000 (92.66%)\n",
            "\n",
            "\n",
            "Epoch: 90\n"
          ],
          "name": "stdout"
        },
        {
          "output_type": "stream",
          "text": [
            "Loss=0.16215747594833374 Batch_id=390 Accuracy=96.42: 100%|██████████| 391/391 [00:28<00:00, 13.89it/s]\n",
            "  0%|          | 0/391 [00:00<?, ?it/s]"
          ],
          "name": "stderr"
        },
        {
          "output_type": "stream",
          "text": [
            "\n",
            "Test set: Average loss: 0.0022, Accuracy: 9270/10000 (92.70%)\n",
            "\n",
            "\n",
            "Epoch: 91\n"
          ],
          "name": "stdout"
        },
        {
          "output_type": "stream",
          "text": [
            "Loss=0.049633871763944626 Batch_id=390 Accuracy=96.41: 100%|██████████| 391/391 [00:28<00:00, 13.88it/s]\n",
            "  0%|          | 0/391 [00:00<?, ?it/s]"
          ],
          "name": "stderr"
        },
        {
          "output_type": "stream",
          "text": [
            "\n",
            "Test set: Average loss: 0.0022, Accuracy: 9272/10000 (92.72%)\n",
            "\n",
            "\n",
            "Epoch: 92\n"
          ],
          "name": "stdout"
        },
        {
          "output_type": "stream",
          "text": [
            "Loss=0.06865862756967545 Batch_id=390 Accuracy=96.47: 100%|██████████| 391/391 [00:28<00:00, 13.91it/s]\n",
            "  0%|          | 0/391 [00:00<?, ?it/s]"
          ],
          "name": "stderr"
        },
        {
          "output_type": "stream",
          "text": [
            "\n",
            "Test set: Average loss: 0.0022, Accuracy: 9271/10000 (92.71%)\n",
            "\n",
            "\n",
            "Epoch: 93\n"
          ],
          "name": "stdout"
        },
        {
          "output_type": "stream",
          "text": [
            "Loss=0.10017969459295273 Batch_id=390 Accuracy=96.28: 100%|██████████| 391/391 [00:28<00:00, 13.91it/s]\n",
            "  0%|          | 0/391 [00:00<?, ?it/s]"
          ],
          "name": "stderr"
        },
        {
          "output_type": "stream",
          "text": [
            "\n",
            "Test set: Average loss: 0.0022, Accuracy: 9279/10000 (92.79%)\n",
            "\n",
            "\n",
            "Epoch: 94\n"
          ],
          "name": "stdout"
        },
        {
          "output_type": "stream",
          "text": [
            "Loss=0.10362434387207031 Batch_id=390 Accuracy=96.30: 100%|██████████| 391/391 [00:28<00:00, 13.85it/s]\n",
            "  0%|          | 0/391 [00:00<?, ?it/s]"
          ],
          "name": "stderr"
        },
        {
          "output_type": "stream",
          "text": [
            "\n",
            "Test set: Average loss: 0.0022, Accuracy: 9272/10000 (92.72%)\n",
            "\n",
            "\n",
            "Epoch: 95\n"
          ],
          "name": "stdout"
        },
        {
          "output_type": "stream",
          "text": [
            "Loss=0.07538077980279922 Batch_id=390 Accuracy=96.38: 100%|██████████| 391/391 [00:28<00:00, 13.91it/s]\n",
            "  0%|          | 0/391 [00:00<?, ?it/s]"
          ],
          "name": "stderr"
        },
        {
          "output_type": "stream",
          "text": [
            "\n",
            "Test set: Average loss: 0.0022, Accuracy: 9274/10000 (92.74%)\n",
            "\n",
            "\n",
            "Epoch: 96\n"
          ],
          "name": "stdout"
        },
        {
          "output_type": "stream",
          "text": [
            "Loss=0.09781835973262787 Batch_id=390 Accuracy=96.49: 100%|██████████| 391/391 [00:28<00:00, 13.88it/s]\n",
            "  0%|          | 0/391 [00:00<?, ?it/s]"
          ],
          "name": "stderr"
        },
        {
          "output_type": "stream",
          "text": [
            "\n",
            "Test set: Average loss: 0.0022, Accuracy: 9256/10000 (92.56%)\n",
            "\n",
            "\n",
            "Epoch: 97\n"
          ],
          "name": "stdout"
        },
        {
          "output_type": "stream",
          "text": [
            "Loss=0.15799815952777863 Batch_id=390 Accuracy=96.33: 100%|██████████| 391/391 [00:28<00:00, 13.88it/s]\n",
            "  0%|          | 0/391 [00:00<?, ?it/s]"
          ],
          "name": "stderr"
        },
        {
          "output_type": "stream",
          "text": [
            "\n",
            "Test set: Average loss: 0.0022, Accuracy: 9262/10000 (92.62%)\n",
            "\n",
            "\n",
            "Epoch: 98\n"
          ],
          "name": "stdout"
        },
        {
          "output_type": "stream",
          "text": [
            "Loss=0.07189483940601349 Batch_id=390 Accuracy=96.33: 100%|██████████| 391/391 [00:28<00:00, 13.83it/s]\n",
            "  0%|          | 0/391 [00:00<?, ?it/s]"
          ],
          "name": "stderr"
        },
        {
          "output_type": "stream",
          "text": [
            "\n",
            "Test set: Average loss: 0.0022, Accuracy: 9265/10000 (92.65%)\n",
            "\n",
            "\n",
            "Epoch: 99\n"
          ],
          "name": "stdout"
        },
        {
          "output_type": "stream",
          "text": [
            "Loss=0.08052822202444077 Batch_id=390 Accuracy=96.34: 100%|██████████| 391/391 [00:27<00:00, 14.03it/s]\n"
          ],
          "name": "stderr"
        },
        {
          "output_type": "stream",
          "text": [
            "\n",
            "Test set: Average loss: 0.0023, Accuracy: 9272/10000 (92.72%)\n",
            "\n",
            "Finished Training\n"
          ],
          "name": "stdout"
        }
      ]
    },
    {
      "cell_type": "markdown",
      "metadata": {
        "id": "CSVSmIPbMyZO",
        "colab_type": "text"
      },
      "source": [
        "# display an image from the test set"
      ]
    },
    {
      "cell_type": "code",
      "metadata": {
        "id": "J1dR2XwoMyZQ",
        "colab_type": "code",
        "outputId": "5633d0db-57f5-4788-a448-3300a47ae31a",
        "colab": {
          "base_uri": "https://localhost:8080/",
          "height": 193
        }
      },
      "source": [
        "images, labels = cifar10.sample_pictures(train_flag=False, return_flag = True)"
      ],
      "execution_count": 0,
      "outputs": [
        {
          "output_type": "stream",
          "text": [
            "Files already downloaded and verified\n"
          ],
          "name": "stdout"
        },
        {
          "output_type": "display_data",
          "data": {
            "image/png": "[encoded data removed]",
            "text/plain": [
              "<Figure size 720x720 with 5 Axes>"
            ]
          },
          "metadata": {
            "tags": []
          }
        }
      ]
    },
    {
      "cell_type": "markdown",
      "metadata": {
        "id": "bJ5p2CWiMyZV",
        "colab_type": "text"
      },
      "source": [
        "# Prediction of sampe test set"
      ]
    },
    {
      "cell_type": "code",
      "metadata": {
        "id": "eAKBmNJ7MyZX",
        "colab_type": "code",
        "outputId": "437d5555-8de3-4c0d-ca3a-21c3a1d698b8",
        "colab": {
          "base_uri": "https://localhost:8080/",
          "height": 35
        }
      },
      "source": [
        "images,labels = images.to(device),labels.to(device)\n",
        "outputs = net(images)\n",
        "_, predicted = torch.max(outputs, 1)\n",
        "\n",
        "print('Predicted: ', ' '.join('%5s' % classes[predicted[j]]\n",
        "                              for j in range(5)))"
      ],
      "execution_count": 0,
      "outputs": [
        {
          "output_type": "stream",
          "text": [
            "Predicted:   ship  ship  bird  bird   cat\n"
          ],
          "name": "stdout"
        }
      ]
    },
    {
      "cell_type": "markdown",
      "metadata": {
        "id": "IWxn-r1-MyZa",
        "colab_type": "text"
      },
      "source": [
        "# Plotting Train & Test Accuracy/Losses"
      ]
    },
    {
      "cell_type": "code",
      "metadata": {
        "id": "fK3IMQSbMyZb",
        "colab_type": "code",
        "outputId": "9cd4bf36-621d-4dea-aca7-b1fdff6efe72",
        "colab": {
          "base_uri": "https://localhost:8080/",
          "height": 624
        }
      },
      "source": [
        "%matplotlib inline\n",
        "import matplotlib.pyplot as plt\n",
        "fig, axs = plt.subplots(2,2,figsize=(15,10))\n",
        "axs[0, 0].plot(train.train_losses)\n",
        "axs[0, 0].set_title(\"Training Loss\")\n",
        "axs[1, 0].plot(train.train_acc)\n",
        "axs[1, 0].set_title(\"Training Accuracy\")\n",
        "axs[0, 1].plot(test.test_losses)\n",
        "axs[0, 1].set_title(\"Test Loss\")\n",
        "axs[1, 1].plot(test.test_acc)\n",
        "axs[1, 1].set_title(\"Test Accuracy\")"
      ],
      "execution_count": 15,
      "outputs": [
        {
          "output_type": "execute_result",
          "data": {
            "text/plain": [
              "Text(0.5, 1.0, 'Test Accuracy')"
            ]
          },
          "metadata": {
            "tags": []
          },
          "execution_count": 15
        },
        {
          "output_type": "display_data",
          "data": {
            "image/png": "[encoded data removed]",
            "text/plain": [
              "<Figure size 1080x720 with 4 Axes>"
            ]
          },
          "metadata": {
            "tags": []
          }
        }
      ]
    },
    {
      "cell_type": "markdown",
      "metadata": {
        "id": "cns1i5dGMyZn",
        "colab_type": "text"
      },
      "source": [
        "# Evaluating test Accuracy over different classes "
      ]
    },
    {
      "cell_type": "code",
      "metadata": {
        "id": "KSrU9MsOMyZo",
        "colab_type": "code",
        "outputId": "ab1c94e7-f438-4010-d0e4-d8c601c728bd",
        "colab": {
          "base_uri": "https://localhost:8080/",
          "height": 199
        }
      },
      "source": [
        "class_correct = list(0. for i in range(10))\n",
        "class_total = list(0. for i in range(10))\n",
        "with torch.no_grad():\n",
        "    for data in testloader:\n",
        "        images, labels = data\n",
        "        images,labels = images.to(device),labels.to(device)\n",
        "        outputs = net(images)\n",
        "        _, predicted = torch.max(outputs, 1)\n",
        "        c = (predicted == labels).squeeze()\n",
        "        for i in range(4):\n",
        "            label = labels[i]\n",
        "            class_correct[label] += c[i].item()\n",
        "            class_total[label] += 1\n",
        "\n",
        "\n",
        "for i in range(10):\n",
        "    print('Accuracy of %5s : %2d %%' % (\n",
        "        classes[i], 100 * class_correct[i] / class_total[i]))"
      ],
      "execution_count": 0,
      "outputs": [
        {
          "output_type": "stream",
          "text": [
            "Accuracy of plane :  7 %\n",
            "Accuracy of   car :  0 %\n",
            "Accuracy of  bird : 50 %\n",
            "Accuracy of   cat :  3 %\n",
            "Accuracy of  deer :  0 %\n",
            "Accuracy of   dog :  0 %\n",
            "Accuracy of  frog :  0 %\n",
            "Accuracy of horse :  0 %\n",
            "Accuracy of  ship : 68 %\n",
            "Accuracy of truck :  5 %\n"
          ],
          "name": "stdout"
        }
      ]
    },
    {
      "cell_type": "code",
      "metadata": {
        "id": "5TXRMVpDMlvw",
        "colab_type": "code",
        "outputId": "e09ae520-f3bf-4958-a960-6c15ef51878a",
        "colab": {
          "base_uri": "https://localhost:8080/",
          "height": 193
        }
      },
      "source": [
        "images, labels = cifar10.sample_pictures(train_flag=False, return_flag = True)"
      ],
      "execution_count": 0,
      "outputs": [
        {
          "output_type": "stream",
          "text": [
            "Files already downloaded and verified\n"
          ],
          "name": "stdout"
        },
        {
          "output_type": "display_data",
          "data": {
            "image/png": "[encoded data removed]",
            "text/plain": [
              "<Figure size 720x720 with 5 Axes>"
            ]
          },
          "metadata": {
            "tags": []
          }
        }
      ]
    },
    {
      "cell_type": "code",
      "metadata": {
        "id": "8VkamYrP_vu6",
        "colab_type": "code",
        "colab": {}
      },
      "source": [
        "# initialize a model, model_dict and gradcam\n",
        "resnet = net\n",
        "resnet.eval()\n",
        "gradcam = GradCAM.from_config(model_type='resnet', arch=resnet, layer_name='layer4')"
      ],
      "execution_count": 0,
      "outputs": []
    },
    {
      "cell_type": "code",
      "metadata": {
        "id": "EfU0kSuqnAkS",
        "colab_type": "code",
        "outputId": "66bc67a2-9d94-4685-8223-6c4c10445d4e",
        "colab": {
          "base_uri": "https://localhost:8080/",
          "height": 936
        }
      },
      "source": [
        "fig = plt.figure(figsize=(5, 10))\n",
        "idx_cnt=1\n",
        "for idx in np.arange(len(labels.numpy())):\n",
        "\n",
        "  img = images[idx]\n",
        "  lbl = labels.numpy()[idx]\n",
        "\n",
        "  # get an image and normalize with mean=(0.485, 0.456, 0.406), std=(0.229, 0.224, 0.225)\n",
        "  img = img.unsqueeze(0).to(device)\n",
        "  normed_img = normalize(img,mean=(0.4914, 0.4822, 0.4465),std=(0.2023, 0.1994, 0.2010))\n",
        "\n",
        "  # get a GradCAM saliency map on the class index 10.\n",
        "  mask, logit = gradcam(normed_img, class_idx=lbl)\n",
        "  # make heatmap from mask and synthesize saliency map using heatmap and img\n",
        "  heatmap, cam_result = visualize_cam(mask, img, alpha=0.4)\n",
        "\n",
        "  # Show images\n",
        "  # for idx in np.arange(len(labels.numpy())):\n",
        "  # Original picture\n",
        "  ax = fig.add_subplot(5, 3, idx_cnt, xticks=[], yticks=[])\n",
        "  npimg = np.transpose(img[0].cpu().numpy(),(1,2,0))\n",
        "  ax.imshow(npimg, cmap='gray')\n",
        "  ax.set_title(\"Label={}\".format(str(classes[lbl])))\n",
        "  idx_cnt+=1\n",
        "\n",
        "  ax = fig.add_subplot(5, 3, idx_cnt, xticks=[], yticks=[])\n",
        "  npimg = np.transpose(heatmap,(1,2,0))\n",
        "  ax.imshow(npimg, cmap='gray')\n",
        "  ax.set_title(\"HeatMap\".format(str(classes[lbl])))\n",
        "  idx_cnt+=1\n",
        "\n",
        "  ax = fig.add_subplot(5, 3, idx_cnt, xticks=[], yticks=[])\n",
        "  npimg = np.transpose(cam_result,(1,2,0))\n",
        "  ax.imshow(npimg, cmap='gray')\n",
        "  ax.set_title(\"GradCAM\".format(str(classes[lbl])))\n",
        "  idx_cnt+=1\n",
        "\n",
        "fig.tight_layout()  \n",
        "plt.show()"
      ],
      "execution_count": 0,
      "outputs": [
        {
          "output_type": "stream",
          "text": [
            "/usr/local/lib/python3.6/dist-packages/torch/nn/functional.py:2416: UserWarning: nn.functional.upsample is deprecated. Use nn.functional.interpolate instead.\n",
            "  warnings.warn(\"nn.functional.upsample is deprecated. Use nn.functional.interpolate instead.\")\n",
            "WARNING:matplotlib.image:Clipping input data to the valid range for imshow with RGB data ([0..1] for floats or [0..255] for integers).\n",
            "WARNING:matplotlib.image:Clipping input data to the valid range for imshow with RGB data ([0..1] for floats or [0..255] for integers).\n",
            "WARNING:matplotlib.image:Clipping input data to the valid range for imshow with RGB data ([0..1] for floats or [0..255] for integers).\n",
            "WARNING:matplotlib.image:Clipping input data to the valid range for imshow with RGB data ([0..1] for floats or [0..255] for integers).\n",
            "WARNING:matplotlib.image:Clipping input data to the valid range for imshow with RGB data ([0..1] for floats or [0..255] for integers).\n",
            "WARNING:matplotlib.image:Clipping input data to the valid range for imshow with RGB data ([0..1] for floats or [0..255] for integers).\n",
            "WARNING:matplotlib.image:Clipping input data to the valid range for imshow with RGB data ([0..1] for floats or [0..255] for integers).\n",
            "WARNING:matplotlib.image:Clipping input data to the valid range for imshow with RGB data ([0..1] for floats or [0..255] for integers).\n",
            "WARNING:matplotlib.image:Clipping input data to the valid range for imshow with RGB data ([0..1] for floats or [0..255] for integers).\n",
            "WARNING:matplotlib.image:Clipping input data to the valid range for imshow with RGB data ([0..1] for floats or [0..255] for integers).\n"
          ],
          "name": "stderr"
        },
        {
          "output_type": "display_data",
          "data": {
            "image/png": "[encoded data removed]",
            "text/plain": [
              "<Figure size 360x720 with 15 Axes>"
            ]
          },
          "metadata": {
            "tags": []
          }
        }
      ]
    },
    {
      "cell_type": "code",
      "metadata": {
        "id": "_Q4c-s-DyUEn",
        "colab_type": "code",
        "colab": {}
      },
      "source": [
        ""
      ],
      "execution_count": 0,
      "outputs": []
    }
  ]
}